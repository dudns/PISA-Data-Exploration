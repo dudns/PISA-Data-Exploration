{
 "cells": [
  {
   "cell_type": "markdown",
   "metadata": {
    "slideshow": {
     "slide_type": "slide"
    }
   },
   "source": [
    "# PISA Data Exploration"
   ]
  },
  {
   "cell_type": "markdown",
   "metadata": {
    "slideshow": {
     "slide_type": "slide"
    }
   },
   "source": [
    "### What is PISA?\n",
    "PISA is the OECD's Programme for International Student Assessment. Every three years it tests 15-year-old students from all over the world in reading, mathematics and science. The tests are designed to gauge how well the students master key subjects in order to be prepared for real-life situations in the adult world. Why choose 15-year-olds? Because in most countries, at the age of 15, students can decide whether or not they want to continue their education. They therefore need to be equipped for adult life. PISA publishes the results of the test a year after the students are tested to help governments shape their education policy. PISA cycles are referred to by the year in which the students were tested. Therefore PISA 2000 means the students were tested in the year 2000, PISA 2003, in the year 2003 and so forth. (www.oecd.org/pisa/)"
   ]
  },
  {
   "cell_type": "markdown",
   "metadata": {
    "slideshow": {
     "slide_type": "slide"
    }
   },
   "source": [
    "### Dataset Overview\n",
    "PISA 2012 data includes various features of investigated students, such as their possessions of certain furniture or their mindset towards learning. I analyzed this data with three different exploration, which are <b>univariate, bivariate and multivariate exploration.</b> In univariate exploration, I took closer look at <b>distribution</b> of students choice shown by <b>countplot.</b> I visualized the distribution of Student-Teacher Relationship and Sense of Belonging. In bivariate exploration, I took closer look at elements that might influence students' <b>score</b> and visualize the relationship between two variables using <b>heatmap.</b> Particulary, I researched if birth month or number of possessions influence score. Finally, in multivariate exploration, I figured out the relationship between two variables according to <b>gender</b> using <b>scatter plot.</b> For example, I visualized relationship between Perceived Control and Perserverance according to gender. "
   ]
  },
  {
   "cell_type": "markdown",
   "metadata": {
    "slideshow": {
     "slide_type": "skip"
    }
   },
   "source": [
    "<a id='01'> </a>\n",
    "## Preliminary Wrangling"
   ]
  },
  {
   "cell_type": "markdown",
   "metadata": {
    "slideshow": {
     "slide_type": "skip"
    }
   },
   "source": [
    "This document explores PISA 2012 dataset."
   ]
  },
  {
   "cell_type": "code",
   "execution_count": 1,
   "metadata": {
    "slideshow": {
     "slide_type": "skip"
    }
   },
   "outputs": [],
   "source": [
    "# import all neccessary packages \n",
    "import numpy as np\n",
    "import pandas as pd\n",
    "import matplotlib.pyplot as plt\n",
    "import seaborn as sb\n",
    "\n",
    "%matplotlib inline"
   ]
  },
  {
   "cell_type": "code",
   "execution_count": 2,
   "metadata": {
    "slideshow": {
     "slide_type": "skip"
    }
   },
   "outputs": [
    {
     "name": "stderr",
     "output_type": "stream",
     "text": [
      "c:\\users\\dudns_pk7j4bd\\appdata\\local\\programs\\python\\python37\\lib\\site-packages\\IPython\\core\\interactiveshell.py:2785: DtypeWarning: Columns (15,16,17,21,22,23,24,25,26,30,31,36,37,45,65,123,155,156,157,158,159,160,161,162,163,164,165,166,167,168,169,170,171,284,285,286,287,288,289,290,291,292,293,294,295,296,297,298,299,300,301,302,303,307,308,309,310,311,312,313,314,315,316,317,318,319,320,321,322,323,324,325,326,327,328,329,330,331,332,333,334,335,336,337,338,339,340,341,342,343,344,345,346,347,348,349,350,351,352,353,354,355,356,357,376,377,378,379,380,381,382,383,384,385,386,387,388,389,390,391,392,393,394,395,396,397,398,399,400,401,402,403,475) have mixed types. Specify dtype option on import or set low_memory=False.\n",
      "  interactivity=interactivity, compiler=compiler, result=result)\n"
     ]
    }
   ],
   "source": [
    "# read the data of PISA \n",
    "pisa2012 = pd.read_csv('pisa2012.csv', encoding='latin-1')\n",
    "pisadict2012 = pd.read_csv('pisadict2012.csv', encoding='latin-1')"
   ]
  },
  {
   "cell_type": "code",
   "execution_count": 3,
   "metadata": {
    "slideshow": {
     "slide_type": "skip"
    }
   },
   "outputs": [
    {
     "data": {
      "text/html": [
       "<div>\n",
       "<style scoped>\n",
       "    .dataframe tbody tr th:only-of-type {\n",
       "        vertical-align: middle;\n",
       "    }\n",
       "\n",
       "    .dataframe tbody tr th {\n",
       "        vertical-align: top;\n",
       "    }\n",
       "\n",
       "    .dataframe thead th {\n",
       "        text-align: right;\n",
       "    }\n",
       "</style>\n",
       "<table border=\"1\" class=\"dataframe\">\n",
       "  <thead>\n",
       "    <tr style=\"text-align: right;\">\n",
       "      <th></th>\n",
       "      <th>Unnamed: 0</th>\n",
       "      <th>CNT</th>\n",
       "      <th>SUBNATIO</th>\n",
       "      <th>STRATUM</th>\n",
       "      <th>OECD</th>\n",
       "      <th>NC</th>\n",
       "      <th>SCHOOLID</th>\n",
       "      <th>STIDSTD</th>\n",
       "      <th>ST01Q01</th>\n",
       "      <th>ST02Q01</th>\n",
       "      <th>...</th>\n",
       "      <th>W_FSTR75</th>\n",
       "      <th>W_FSTR76</th>\n",
       "      <th>W_FSTR77</th>\n",
       "      <th>W_FSTR78</th>\n",
       "      <th>W_FSTR79</th>\n",
       "      <th>W_FSTR80</th>\n",
       "      <th>WVARSTRR</th>\n",
       "      <th>VAR_UNIT</th>\n",
       "      <th>SENWGT_STU</th>\n",
       "      <th>VER_STU</th>\n",
       "    </tr>\n",
       "  </thead>\n",
       "  <tbody>\n",
       "    <tr>\n",
       "      <th>0</th>\n",
       "      <td>1</td>\n",
       "      <td>Albania</td>\n",
       "      <td>80000</td>\n",
       "      <td>ALB0006</td>\n",
       "      <td>Non-OECD</td>\n",
       "      <td>Albania</td>\n",
       "      <td>1</td>\n",
       "      <td>1</td>\n",
       "      <td>10</td>\n",
       "      <td>1.0</td>\n",
       "      <td>...</td>\n",
       "      <td>13.7954</td>\n",
       "      <td>13.9235</td>\n",
       "      <td>13.1249</td>\n",
       "      <td>13.1249</td>\n",
       "      <td>4.3389</td>\n",
       "      <td>13.0829</td>\n",
       "      <td>19</td>\n",
       "      <td>1</td>\n",
       "      <td>0.2098</td>\n",
       "      <td>22NOV13</td>\n",
       "    </tr>\n",
       "    <tr>\n",
       "      <th>1</th>\n",
       "      <td>2</td>\n",
       "      <td>Albania</td>\n",
       "      <td>80000</td>\n",
       "      <td>ALB0006</td>\n",
       "      <td>Non-OECD</td>\n",
       "      <td>Albania</td>\n",
       "      <td>1</td>\n",
       "      <td>2</td>\n",
       "      <td>10</td>\n",
       "      <td>1.0</td>\n",
       "      <td>...</td>\n",
       "      <td>13.7954</td>\n",
       "      <td>13.9235</td>\n",
       "      <td>13.1249</td>\n",
       "      <td>13.1249</td>\n",
       "      <td>4.3389</td>\n",
       "      <td>13.0829</td>\n",
       "      <td>19</td>\n",
       "      <td>1</td>\n",
       "      <td>0.2098</td>\n",
       "      <td>22NOV13</td>\n",
       "    </tr>\n",
       "    <tr>\n",
       "      <th>2</th>\n",
       "      <td>3</td>\n",
       "      <td>Albania</td>\n",
       "      <td>80000</td>\n",
       "      <td>ALB0006</td>\n",
       "      <td>Non-OECD</td>\n",
       "      <td>Albania</td>\n",
       "      <td>1</td>\n",
       "      <td>3</td>\n",
       "      <td>9</td>\n",
       "      <td>1.0</td>\n",
       "      <td>...</td>\n",
       "      <td>12.7307</td>\n",
       "      <td>12.7307</td>\n",
       "      <td>12.7307</td>\n",
       "      <td>12.7307</td>\n",
       "      <td>4.2436</td>\n",
       "      <td>12.7307</td>\n",
       "      <td>19</td>\n",
       "      <td>1</td>\n",
       "      <td>0.1999</td>\n",
       "      <td>22NOV13</td>\n",
       "    </tr>\n",
       "    <tr>\n",
       "      <th>3</th>\n",
       "      <td>4</td>\n",
       "      <td>Albania</td>\n",
       "      <td>80000</td>\n",
       "      <td>ALB0006</td>\n",
       "      <td>Non-OECD</td>\n",
       "      <td>Albania</td>\n",
       "      <td>1</td>\n",
       "      <td>4</td>\n",
       "      <td>9</td>\n",
       "      <td>1.0</td>\n",
       "      <td>...</td>\n",
       "      <td>12.7307</td>\n",
       "      <td>12.7307</td>\n",
       "      <td>12.7307</td>\n",
       "      <td>12.7307</td>\n",
       "      <td>4.2436</td>\n",
       "      <td>12.7307</td>\n",
       "      <td>19</td>\n",
       "      <td>1</td>\n",
       "      <td>0.1999</td>\n",
       "      <td>22NOV13</td>\n",
       "    </tr>\n",
       "    <tr>\n",
       "      <th>4</th>\n",
       "      <td>5</td>\n",
       "      <td>Albania</td>\n",
       "      <td>80000</td>\n",
       "      <td>ALB0006</td>\n",
       "      <td>Non-OECD</td>\n",
       "      <td>Albania</td>\n",
       "      <td>1</td>\n",
       "      <td>5</td>\n",
       "      <td>9</td>\n",
       "      <td>1.0</td>\n",
       "      <td>...</td>\n",
       "      <td>12.7307</td>\n",
       "      <td>12.7307</td>\n",
       "      <td>12.7307</td>\n",
       "      <td>12.7307</td>\n",
       "      <td>4.2436</td>\n",
       "      <td>12.7307</td>\n",
       "      <td>19</td>\n",
       "      <td>1</td>\n",
       "      <td>0.1999</td>\n",
       "      <td>22NOV13</td>\n",
       "    </tr>\n",
       "  </tbody>\n",
       "</table>\n",
       "<p>5 rows × 636 columns</p>\n",
       "</div>"
      ],
      "text/plain": [
       "   Unnamed: 0      CNT  SUBNATIO  STRATUM      OECD       NC  SCHOOLID  \\\n",
       "0           1  Albania     80000  ALB0006  Non-OECD  Albania         1   \n",
       "1           2  Albania     80000  ALB0006  Non-OECD  Albania         1   \n",
       "2           3  Albania     80000  ALB0006  Non-OECD  Albania         1   \n",
       "3           4  Albania     80000  ALB0006  Non-OECD  Albania         1   \n",
       "4           5  Albania     80000  ALB0006  Non-OECD  Albania         1   \n",
       "\n",
       "   STIDSTD  ST01Q01  ST02Q01   ...     W_FSTR75  W_FSTR76 W_FSTR77 W_FSTR78  \\\n",
       "0        1       10      1.0   ...      13.7954   13.9235  13.1249  13.1249   \n",
       "1        2       10      1.0   ...      13.7954   13.9235  13.1249  13.1249   \n",
       "2        3        9      1.0   ...      12.7307   12.7307  12.7307  12.7307   \n",
       "3        4        9      1.0   ...      12.7307   12.7307  12.7307  12.7307   \n",
       "4        5        9      1.0   ...      12.7307   12.7307  12.7307  12.7307   \n",
       "\n",
       "   W_FSTR79 W_FSTR80 WVARSTRR VAR_UNIT SENWGT_STU  VER_STU  \n",
       "0    4.3389  13.0829       19        1     0.2098  22NOV13  \n",
       "1    4.3389  13.0829       19        1     0.2098  22NOV13  \n",
       "2    4.2436  12.7307       19        1     0.1999  22NOV13  \n",
       "3    4.2436  12.7307       19        1     0.1999  22NOV13  \n",
       "4    4.2436  12.7307       19        1     0.1999  22NOV13  \n",
       "\n",
       "[5 rows x 636 columns]"
      ]
     },
     "execution_count": 3,
     "metadata": {},
     "output_type": "execute_result"
    }
   ],
   "source": [
    "pisa2012.head()"
   ]
  },
  {
   "cell_type": "code",
   "execution_count": 7,
   "metadata": {
    "slideshow": {
     "slide_type": "skip"
    }
   },
   "outputs": [
    {
     "data": {
      "text/html": [
       "<div>\n",
       "<style scoped>\n",
       "    .dataframe tbody tr th:only-of-type {\n",
       "        vertical-align: middle;\n",
       "    }\n",
       "\n",
       "    .dataframe tbody tr th {\n",
       "        vertical-align: top;\n",
       "    }\n",
       "\n",
       "    .dataframe thead th {\n",
       "        text-align: right;\n",
       "    }\n",
       "</style>\n",
       "<table border=\"1\" class=\"dataframe\">\n",
       "  <thead>\n",
       "    <tr style=\"text-align: right;\">\n",
       "      <th></th>\n",
       "      <th>Unnamed: 0</th>\n",
       "      <th>x</th>\n",
       "    </tr>\n",
       "  </thead>\n",
       "  <tbody>\n",
       "    <tr>\n",
       "      <th>0</th>\n",
       "      <td>CNT</td>\n",
       "      <td>Country code 3-character</td>\n",
       "    </tr>\n",
       "    <tr>\n",
       "      <th>1</th>\n",
       "      <td>SUBNATIO</td>\n",
       "      <td>Adjudicated sub-region code 7-digit code (3-di...</td>\n",
       "    </tr>\n",
       "    <tr>\n",
       "      <th>2</th>\n",
       "      <td>STRATUM</td>\n",
       "      <td>Stratum ID 7-character (cnt + region ID + orig...</td>\n",
       "    </tr>\n",
       "    <tr>\n",
       "      <th>3</th>\n",
       "      <td>OECD</td>\n",
       "      <td>OECD country</td>\n",
       "    </tr>\n",
       "    <tr>\n",
       "      <th>4</th>\n",
       "      <td>NC</td>\n",
       "      <td>National Centre 6-digit Code</td>\n",
       "    </tr>\n",
       "    <tr>\n",
       "      <th>5</th>\n",
       "      <td>SCHOOLID</td>\n",
       "      <td>School ID 7-digit (region ID + stratum ID + 3-...</td>\n",
       "    </tr>\n",
       "    <tr>\n",
       "      <th>6</th>\n",
       "      <td>STIDSTD</td>\n",
       "      <td>Student ID</td>\n",
       "    </tr>\n",
       "    <tr>\n",
       "      <th>7</th>\n",
       "      <td>ST01Q01</td>\n",
       "      <td>International Grade</td>\n",
       "    </tr>\n",
       "    <tr>\n",
       "      <th>8</th>\n",
       "      <td>ST02Q01</td>\n",
       "      <td>National Study Programme</td>\n",
       "    </tr>\n",
       "    <tr>\n",
       "      <th>9</th>\n",
       "      <td>ST03Q01</td>\n",
       "      <td>Birth - Month</td>\n",
       "    </tr>\n",
       "    <tr>\n",
       "      <th>10</th>\n",
       "      <td>ST03Q02</td>\n",
       "      <td>Birth -Year</td>\n",
       "    </tr>\n",
       "    <tr>\n",
       "      <th>11</th>\n",
       "      <td>ST04Q01</td>\n",
       "      <td>Gender</td>\n",
       "    </tr>\n",
       "    <tr>\n",
       "      <th>12</th>\n",
       "      <td>ST05Q01</td>\n",
       "      <td>Attend &lt;ISCED 0&gt;</td>\n",
       "    </tr>\n",
       "    <tr>\n",
       "      <th>13</th>\n",
       "      <td>ST06Q01</td>\n",
       "      <td>Age at &lt;ISCED 1&gt;</td>\n",
       "    </tr>\n",
       "    <tr>\n",
       "      <th>14</th>\n",
       "      <td>ST07Q01</td>\n",
       "      <td>Repeat - &lt;ISCED 1&gt;</td>\n",
       "    </tr>\n",
       "    <tr>\n",
       "      <th>15</th>\n",
       "      <td>ST07Q02</td>\n",
       "      <td>Repeat - &lt;ISCED 2&gt;</td>\n",
       "    </tr>\n",
       "    <tr>\n",
       "      <th>16</th>\n",
       "      <td>ST07Q03</td>\n",
       "      <td>Repeat - &lt;ISCED 3&gt;</td>\n",
       "    </tr>\n",
       "    <tr>\n",
       "      <th>17</th>\n",
       "      <td>ST08Q01</td>\n",
       "      <td>Truancy - Late for School</td>\n",
       "    </tr>\n",
       "    <tr>\n",
       "      <th>18</th>\n",
       "      <td>ST09Q01</td>\n",
       "      <td>Truancy - Skip whole school day</td>\n",
       "    </tr>\n",
       "    <tr>\n",
       "      <th>19</th>\n",
       "      <td>ST115Q01</td>\n",
       "      <td>Truancy - Skip classes within school day</td>\n",
       "    </tr>\n",
       "  </tbody>\n",
       "</table>\n",
       "</div>"
      ],
      "text/plain": [
       "   Unnamed: 0                                                  x\n",
       "0         CNT                           Country code 3-character\n",
       "1    SUBNATIO  Adjudicated sub-region code 7-digit code (3-di...\n",
       "2     STRATUM  Stratum ID 7-character (cnt + region ID + orig...\n",
       "3        OECD                                       OECD country\n",
       "4          NC                       National Centre 6-digit Code\n",
       "5    SCHOOLID  School ID 7-digit (region ID + stratum ID + 3-...\n",
       "6     STIDSTD                                         Student ID\n",
       "7     ST01Q01                                International Grade\n",
       "8     ST02Q01                           National Study Programme\n",
       "9     ST03Q01                                      Birth - Month\n",
       "10    ST03Q02                                        Birth -Year\n",
       "11    ST04Q01                                             Gender\n",
       "12    ST05Q01                                   Attend <ISCED 0>\n",
       "13    ST06Q01                                   Age at <ISCED 1>\n",
       "14    ST07Q01                                 Repeat - <ISCED 1>\n",
       "15    ST07Q02                                 Repeat - <ISCED 2>\n",
       "16    ST07Q03                                 Repeat - <ISCED 3>\n",
       "17    ST08Q01                          Truancy - Late for School\n",
       "18    ST09Q01                    Truancy - Skip whole school day\n",
       "19   ST115Q01           Truancy - Skip classes within school day"
      ]
     },
     "execution_count": 7,
     "metadata": {},
     "output_type": "execute_result"
    }
   ],
   "source": [
    "pisadict2012.head(20)"
   ]
  },
  {
   "cell_type": "code",
   "execution_count": 11,
   "metadata": {
    "slideshow": {
     "slide_type": "skip"
    }
   },
   "outputs": [
    {
     "name": "stdout",
     "output_type": "stream",
     "text": [
      "<class 'pandas.core.frame.DataFrame'>\n",
      "RangeIndex: 485490 entries, 0 to 485489\n",
      "Columns: 636 entries, Unnamed: 0 to VER_STU\n",
      "dtypes: float64(250), int64(18), object(368)\n",
      "memory usage: 2.3+ GB\n"
     ]
    }
   ],
   "source": [
    "pisa2012.info()"
   ]
  },
  {
   "cell_type": "code",
   "execution_count": 12,
   "metadata": {
    "slideshow": {
     "slide_type": "skip"
    }
   },
   "outputs": [
    {
     "data": {
      "text/plain": [
       "(485490, 636)"
      ]
     },
     "execution_count": 12,
     "metadata": {},
     "output_type": "execute_result"
    }
   ],
   "source": [
    "pisa2012.shape"
   ]
  },
  {
   "cell_type": "code",
   "execution_count": 13,
   "metadata": {
    "slideshow": {
     "slide_type": "skip"
    }
   },
   "outputs": [
    {
     "data": {
      "text/plain": [
       "(635, 2)"
      ]
     },
     "execution_count": 13,
     "metadata": {},
     "output_type": "execute_result"
    }
   ],
   "source": [
    "pisadict2012.shape"
   ]
  },
  {
   "cell_type": "code",
   "execution_count": 14,
   "metadata": {
    "slideshow": {
     "slide_type": "skip"
    }
   },
   "outputs": [
    {
     "data": {
      "text/html": [
       "<div>\n",
       "<style scoped>\n",
       "    .dataframe tbody tr th:only-of-type {\n",
       "        vertical-align: middle;\n",
       "    }\n",
       "\n",
       "    .dataframe tbody tr th {\n",
       "        vertical-align: top;\n",
       "    }\n",
       "\n",
       "    .dataframe thead th {\n",
       "        text-align: right;\n",
       "    }\n",
       "</style>\n",
       "<table border=\"1\" class=\"dataframe\">\n",
       "  <thead>\n",
       "    <tr style=\"text-align: right;\">\n",
       "      <th></th>\n",
       "      <th>Unnamed: 0</th>\n",
       "      <th>SUBNATIO</th>\n",
       "      <th>SCHOOLID</th>\n",
       "      <th>STIDSTD</th>\n",
       "      <th>ST01Q01</th>\n",
       "      <th>ST02Q01</th>\n",
       "      <th>ST03Q01</th>\n",
       "      <th>ST03Q02</th>\n",
       "      <th>ST06Q01</th>\n",
       "      <th>ST115Q01</th>\n",
       "      <th>...</th>\n",
       "      <th>W_FSTR74</th>\n",
       "      <th>W_FSTR75</th>\n",
       "      <th>W_FSTR76</th>\n",
       "      <th>W_FSTR77</th>\n",
       "      <th>W_FSTR78</th>\n",
       "      <th>W_FSTR79</th>\n",
       "      <th>W_FSTR80</th>\n",
       "      <th>WVARSTRR</th>\n",
       "      <th>VAR_UNIT</th>\n",
       "      <th>SENWGT_STU</th>\n",
       "    </tr>\n",
       "  </thead>\n",
       "  <tbody>\n",
       "    <tr>\n",
       "      <th>count</th>\n",
       "      <td>485490.000000</td>\n",
       "      <td>4.854900e+05</td>\n",
       "      <td>485490.000000</td>\n",
       "      <td>485490.000000</td>\n",
       "      <td>485490.000000</td>\n",
       "      <td>485438.000000</td>\n",
       "      <td>485490.000000</td>\n",
       "      <td>485490.000000</td>\n",
       "      <td>457994.000000</td>\n",
       "      <td>479269.000000</td>\n",
       "      <td>...</td>\n",
       "      <td>485490.000000</td>\n",
       "      <td>485490.000000</td>\n",
       "      <td>485490.000000</td>\n",
       "      <td>485490.000000</td>\n",
       "      <td>485490.000000</td>\n",
       "      <td>485490.000000</td>\n",
       "      <td>485490.000000</td>\n",
       "      <td>485490.000000</td>\n",
       "      <td>485490.000000</td>\n",
       "      <td>485490.000000</td>\n",
       "    </tr>\n",
       "    <tr>\n",
       "      <th>mean</th>\n",
       "      <td>242745.500000</td>\n",
       "      <td>4.315457e+06</td>\n",
       "      <td>240.152197</td>\n",
       "      <td>6134.066201</td>\n",
       "      <td>9.813323</td>\n",
       "      <td>2.579260</td>\n",
       "      <td>6.558512</td>\n",
       "      <td>1996.070061</td>\n",
       "      <td>6.148963</td>\n",
       "      <td>1.265356</td>\n",
       "      <td>...</td>\n",
       "      <td>50.844201</td>\n",
       "      <td>51.020378</td>\n",
       "      <td>50.943149</td>\n",
       "      <td>50.685275</td>\n",
       "      <td>51.019842</td>\n",
       "      <td>50.540724</td>\n",
       "      <td>50.721164</td>\n",
       "      <td>40.013920</td>\n",
       "      <td>1.531189</td>\n",
       "      <td>0.140054</td>\n",
       "    </tr>\n",
       "    <tr>\n",
       "      <th>std</th>\n",
       "      <td>140149.035432</td>\n",
       "      <td>2.524434e+06</td>\n",
       "      <td>278.563016</td>\n",
       "      <td>6733.144944</td>\n",
       "      <td>3.734726</td>\n",
       "      <td>2.694013</td>\n",
       "      <td>3.705244</td>\n",
       "      <td>0.255250</td>\n",
       "      <td>0.970693</td>\n",
       "      <td>0.578992</td>\n",
       "      <td>...</td>\n",
       "      <td>120.684726</td>\n",
       "      <td>122.946533</td>\n",
       "      <td>121.170883</td>\n",
       "      <td>119.267686</td>\n",
       "      <td>122.981541</td>\n",
       "      <td>119.479516</td>\n",
       "      <td>119.799018</td>\n",
       "      <td>22.951264</td>\n",
       "      <td>0.539759</td>\n",
       "      <td>0.137864</td>\n",
       "    </tr>\n",
       "    <tr>\n",
       "      <th>min</th>\n",
       "      <td>1.000000</td>\n",
       "      <td>8.000000e+04</td>\n",
       "      <td>1.000000</td>\n",
       "      <td>1.000000</td>\n",
       "      <td>7.000000</td>\n",
       "      <td>1.000000</td>\n",
       "      <td>1.000000</td>\n",
       "      <td>1996.000000</td>\n",
       "      <td>4.000000</td>\n",
       "      <td>1.000000</td>\n",
       "      <td>...</td>\n",
       "      <td>0.292900</td>\n",
       "      <td>0.292900</td>\n",
       "      <td>0.292900</td>\n",
       "      <td>0.292900</td>\n",
       "      <td>0.292900</td>\n",
       "      <td>0.292900</td>\n",
       "      <td>0.292900</td>\n",
       "      <td>1.000000</td>\n",
       "      <td>1.000000</td>\n",
       "      <td>0.000500</td>\n",
       "    </tr>\n",
       "    <tr>\n",
       "      <th>25%</th>\n",
       "      <td>121373.250000</td>\n",
       "      <td>2.030000e+06</td>\n",
       "      <td>61.000000</td>\n",
       "      <td>1811.000000</td>\n",
       "      <td>9.000000</td>\n",
       "      <td>1.000000</td>\n",
       "      <td>4.000000</td>\n",
       "      <td>1996.000000</td>\n",
       "      <td>6.000000</td>\n",
       "      <td>1.000000</td>\n",
       "      <td>...</td>\n",
       "      <td>4.660300</td>\n",
       "      <td>4.664800</td>\n",
       "      <td>4.643100</td>\n",
       "      <td>4.667000</td>\n",
       "      <td>4.675200</td>\n",
       "      <td>4.651850</td>\n",
       "      <td>4.660300</td>\n",
       "      <td>20.000000</td>\n",
       "      <td>1.000000</td>\n",
       "      <td>0.037800</td>\n",
       "    </tr>\n",
       "    <tr>\n",
       "      <th>50%</th>\n",
       "      <td>242745.500000</td>\n",
       "      <td>4.100000e+06</td>\n",
       "      <td>136.000000</td>\n",
       "      <td>3740.000000</td>\n",
       "      <td>10.000000</td>\n",
       "      <td>1.000000</td>\n",
       "      <td>7.000000</td>\n",
       "      <td>1996.000000</td>\n",
       "      <td>6.000000</td>\n",
       "      <td>1.000000</td>\n",
       "      <td>...</td>\n",
       "      <td>13.637700</td>\n",
       "      <td>13.698900</td>\n",
       "      <td>13.611700</td>\n",
       "      <td>13.672100</td>\n",
       "      <td>13.731100</td>\n",
       "      <td>13.582000</td>\n",
       "      <td>13.600200</td>\n",
       "      <td>40.000000</td>\n",
       "      <td>2.000000</td>\n",
       "      <td>0.145200</td>\n",
       "    </tr>\n",
       "    <tr>\n",
       "      <th>75%</th>\n",
       "      <td>364117.750000</td>\n",
       "      <td>6.880000e+06</td>\n",
       "      <td>291.000000</td>\n",
       "      <td>7456.000000</td>\n",
       "      <td>10.000000</td>\n",
       "      <td>3.000000</td>\n",
       "      <td>9.000000</td>\n",
       "      <td>1996.000000</td>\n",
       "      <td>7.000000</td>\n",
       "      <td>1.000000</td>\n",
       "      <td>...</td>\n",
       "      <td>41.233500</td>\n",
       "      <td>41.512500</td>\n",
       "      <td>41.695200</td>\n",
       "      <td>41.097300</td>\n",
       "      <td>41.189600</td>\n",
       "      <td>41.290925</td>\n",
       "      <td>41.356000</td>\n",
       "      <td>60.000000</td>\n",
       "      <td>2.000000</td>\n",
       "      <td>0.199900</td>\n",
       "    </tr>\n",
       "    <tr>\n",
       "      <th>max</th>\n",
       "      <td>485490.000000</td>\n",
       "      <td>8.580000e+06</td>\n",
       "      <td>1471.000000</td>\n",
       "      <td>33806.000000</td>\n",
       "      <td>96.000000</td>\n",
       "      <td>25.000000</td>\n",
       "      <td>99.000000</td>\n",
       "      <td>1997.000000</td>\n",
       "      <td>16.000000</td>\n",
       "      <td>4.000000</td>\n",
       "      <td>...</td>\n",
       "      <td>2476.566800</td>\n",
       "      <td>4155.283000</td>\n",
       "      <td>3743.450100</td>\n",
       "      <td>3232.163700</td>\n",
       "      <td>3904.868100</td>\n",
       "      <td>3607.478300</td>\n",
       "      <td>3412.174100</td>\n",
       "      <td>80.000000</td>\n",
       "      <td>3.000000</td>\n",
       "      <td>5.095500</td>\n",
       "    </tr>\n",
       "  </tbody>\n",
       "</table>\n",
       "<p>8 rows × 268 columns</p>\n",
       "</div>"
      ],
      "text/plain": [
       "          Unnamed: 0      SUBNATIO       SCHOOLID        STIDSTD  \\\n",
       "count  485490.000000  4.854900e+05  485490.000000  485490.000000   \n",
       "mean   242745.500000  4.315457e+06     240.152197    6134.066201   \n",
       "std    140149.035432  2.524434e+06     278.563016    6733.144944   \n",
       "min         1.000000  8.000000e+04       1.000000       1.000000   \n",
       "25%    121373.250000  2.030000e+06      61.000000    1811.000000   \n",
       "50%    242745.500000  4.100000e+06     136.000000    3740.000000   \n",
       "75%    364117.750000  6.880000e+06     291.000000    7456.000000   \n",
       "max    485490.000000  8.580000e+06    1471.000000   33806.000000   \n",
       "\n",
       "             ST01Q01        ST02Q01        ST03Q01        ST03Q02  \\\n",
       "count  485490.000000  485438.000000  485490.000000  485490.000000   \n",
       "mean        9.813323       2.579260       6.558512    1996.070061   \n",
       "std         3.734726       2.694013       3.705244       0.255250   \n",
       "min         7.000000       1.000000       1.000000    1996.000000   \n",
       "25%         9.000000       1.000000       4.000000    1996.000000   \n",
       "50%        10.000000       1.000000       7.000000    1996.000000   \n",
       "75%        10.000000       3.000000       9.000000    1996.000000   \n",
       "max        96.000000      25.000000      99.000000    1997.000000   \n",
       "\n",
       "             ST06Q01       ST115Q01      ...             W_FSTR74  \\\n",
       "count  457994.000000  479269.000000      ...        485490.000000   \n",
       "mean        6.148963       1.265356      ...            50.844201   \n",
       "std         0.970693       0.578992      ...           120.684726   \n",
       "min         4.000000       1.000000      ...             0.292900   \n",
       "25%         6.000000       1.000000      ...             4.660300   \n",
       "50%         6.000000       1.000000      ...            13.637700   \n",
       "75%         7.000000       1.000000      ...            41.233500   \n",
       "max        16.000000       4.000000      ...          2476.566800   \n",
       "\n",
       "            W_FSTR75       W_FSTR76       W_FSTR77       W_FSTR78  \\\n",
       "count  485490.000000  485490.000000  485490.000000  485490.000000   \n",
       "mean       51.020378      50.943149      50.685275      51.019842   \n",
       "std       122.946533     121.170883     119.267686     122.981541   \n",
       "min         0.292900       0.292900       0.292900       0.292900   \n",
       "25%         4.664800       4.643100       4.667000       4.675200   \n",
       "50%        13.698900      13.611700      13.672100      13.731100   \n",
       "75%        41.512500      41.695200      41.097300      41.189600   \n",
       "max      4155.283000    3743.450100    3232.163700    3904.868100   \n",
       "\n",
       "            W_FSTR79       W_FSTR80       WVARSTRR       VAR_UNIT  \\\n",
       "count  485490.000000  485490.000000  485490.000000  485490.000000   \n",
       "mean       50.540724      50.721164      40.013920       1.531189   \n",
       "std       119.479516     119.799018      22.951264       0.539759   \n",
       "min         0.292900       0.292900       1.000000       1.000000   \n",
       "25%         4.651850       4.660300      20.000000       1.000000   \n",
       "50%        13.582000      13.600200      40.000000       2.000000   \n",
       "75%        41.290925      41.356000      60.000000       2.000000   \n",
       "max      3607.478300    3412.174100      80.000000       3.000000   \n",
       "\n",
       "          SENWGT_STU  \n",
       "count  485490.000000  \n",
       "mean        0.140054  \n",
       "std         0.137864  \n",
       "min         0.000500  \n",
       "25%         0.037800  \n",
       "50%         0.145200  \n",
       "75%         0.199900  \n",
       "max         5.095500  \n",
       "\n",
       "[8 rows x 268 columns]"
      ]
     },
     "execution_count": 14,
     "metadata": {},
     "output_type": "execute_result"
    }
   ],
   "source": [
    "pisa2012.describe()"
   ]
  },
  {
   "cell_type": "markdown",
   "metadata": {
    "slideshow": {
     "slide_type": "slide"
    }
   },
   "source": [
    "<a id='02'> </a>\n",
    "## Univariate Exploration\n",
    "In univariate exploration, I will look at the distribution of single variable and use histogram to visualize the results.\n",
    "* KEYWORD : Distribution, Countplot"
   ]
  },
  {
   "cell_type": "markdown",
   "metadata": {
    "slideshow": {
     "slide_type": "slide"
    }
   },
   "source": [
    "### Q1. How is the student-teacher relation is distributed?"
   ]
  },
  {
   "cell_type": "code",
   "execution_count": 3,
   "metadata": {
    "slideshow": {
     "slide_type": "skip"
    }
   },
   "outputs": [
    {
     "data": {
      "text/html": [
       "<div>\n",
       "<style scoped>\n",
       "    .dataframe tbody tr th:only-of-type {\n",
       "        vertical-align: middle;\n",
       "    }\n",
       "\n",
       "    .dataframe tbody tr th {\n",
       "        vertical-align: top;\n",
       "    }\n",
       "\n",
       "    .dataframe thead th {\n",
       "        text-align: right;\n",
       "    }\n",
       "</style>\n",
       "<table border=\"1\" class=\"dataframe\">\n",
       "  <thead>\n",
       "    <tr style=\"text-align: right;\">\n",
       "      <th></th>\n",
       "      <th>ST86Q01</th>\n",
       "      <th>ST86Q02</th>\n",
       "      <th>ST86Q03</th>\n",
       "      <th>ST86Q04</th>\n",
       "      <th>ST86Q05</th>\n",
       "    </tr>\n",
       "  </thead>\n",
       "  <tbody>\n",
       "    <tr>\n",
       "      <th>0</th>\n",
       "      <td>Agree</td>\n",
       "      <td>Strongly disagree</td>\n",
       "      <td>Agree</td>\n",
       "      <td>Agree</td>\n",
       "      <td>Disagree</td>\n",
       "    </tr>\n",
       "    <tr>\n",
       "      <th>1</th>\n",
       "      <td>NaN</td>\n",
       "      <td>NaN</td>\n",
       "      <td>NaN</td>\n",
       "      <td>NaN</td>\n",
       "      <td>NaN</td>\n",
       "    </tr>\n",
       "    <tr>\n",
       "      <th>2</th>\n",
       "      <td>NaN</td>\n",
       "      <td>NaN</td>\n",
       "      <td>NaN</td>\n",
       "      <td>NaN</td>\n",
       "      <td>NaN</td>\n",
       "    </tr>\n",
       "    <tr>\n",
       "      <th>3</th>\n",
       "      <td>NaN</td>\n",
       "      <td>NaN</td>\n",
       "      <td>NaN</td>\n",
       "      <td>NaN</td>\n",
       "      <td>NaN</td>\n",
       "    </tr>\n",
       "    <tr>\n",
       "      <th>4</th>\n",
       "      <td>Agree</td>\n",
       "      <td>Agree</td>\n",
       "      <td>Agree</td>\n",
       "      <td>Agree</td>\n",
       "      <td>Agree</td>\n",
       "    </tr>\n",
       "  </tbody>\n",
       "</table>\n",
       "</div>"
      ],
      "text/plain": [
       "  ST86Q01            ST86Q02 ST86Q03 ST86Q04   ST86Q05\n",
       "0   Agree  Strongly disagree   Agree   Agree  Disagree\n",
       "1     NaN                NaN     NaN     NaN       NaN\n",
       "2     NaN                NaN     NaN     NaN       NaN\n",
       "3     NaN                NaN     NaN     NaN       NaN\n",
       "4   Agree              Agree   Agree   Agree     Agree"
      ]
     },
     "execution_count": 3,
     "metadata": {},
     "output_type": "execute_result"
    }
   ],
   "source": [
    "# pick data only related to student-teacher relation \n",
    "relation = pisa2012[['ST86Q01', 'ST86Q02', 'ST86Q03', 'ST86Q04', 'ST86Q05']]\n",
    "relation.head()"
   ]
  },
  {
   "cell_type": "code",
   "execution_count": 4,
   "metadata": {
    "slideshow": {
     "slide_type": "skip"
    }
   },
   "outputs": [
    {
     "data": {
      "text/html": [
       "<div>\n",
       "<style scoped>\n",
       "    .dataframe tbody tr th:only-of-type {\n",
       "        vertical-align: middle;\n",
       "    }\n",
       "\n",
       "    .dataframe tbody tr th {\n",
       "        vertical-align: top;\n",
       "    }\n",
       "\n",
       "    .dataframe thead th {\n",
       "        text-align: right;\n",
       "    }\n",
       "</style>\n",
       "<table border=\"1\" class=\"dataframe\">\n",
       "  <thead>\n",
       "    <tr style=\"text-align: right;\">\n",
       "      <th></th>\n",
       "      <th>Get Along with Teachers</th>\n",
       "      <th>Teachers Are Interested</th>\n",
       "      <th>Teachers Listen to Students</th>\n",
       "      <th>Teachers Help Students</th>\n",
       "      <th>Teachers Treat Students Fair</th>\n",
       "    </tr>\n",
       "  </thead>\n",
       "  <tbody>\n",
       "    <tr>\n",
       "      <th>0</th>\n",
       "      <td>Agree</td>\n",
       "      <td>Strongly disagree</td>\n",
       "      <td>Agree</td>\n",
       "      <td>Agree</td>\n",
       "      <td>Disagree</td>\n",
       "    </tr>\n",
       "    <tr>\n",
       "      <th>1</th>\n",
       "      <td>NaN</td>\n",
       "      <td>NaN</td>\n",
       "      <td>NaN</td>\n",
       "      <td>NaN</td>\n",
       "      <td>NaN</td>\n",
       "    </tr>\n",
       "    <tr>\n",
       "      <th>2</th>\n",
       "      <td>NaN</td>\n",
       "      <td>NaN</td>\n",
       "      <td>NaN</td>\n",
       "      <td>NaN</td>\n",
       "      <td>NaN</td>\n",
       "    </tr>\n",
       "    <tr>\n",
       "      <th>3</th>\n",
       "      <td>NaN</td>\n",
       "      <td>NaN</td>\n",
       "      <td>NaN</td>\n",
       "      <td>NaN</td>\n",
       "      <td>NaN</td>\n",
       "    </tr>\n",
       "    <tr>\n",
       "      <th>4</th>\n",
       "      <td>Agree</td>\n",
       "      <td>Agree</td>\n",
       "      <td>Agree</td>\n",
       "      <td>Agree</td>\n",
       "      <td>Agree</td>\n",
       "    </tr>\n",
       "  </tbody>\n",
       "</table>\n",
       "</div>"
      ],
      "text/plain": [
       "  Get Along with Teachers Teachers Are Interested Teachers Listen to Students  \\\n",
       "0                   Agree       Strongly disagree                       Agree   \n",
       "1                     NaN                     NaN                         NaN   \n",
       "2                     NaN                     NaN                         NaN   \n",
       "3                     NaN                     NaN                         NaN   \n",
       "4                   Agree                   Agree                       Agree   \n",
       "\n",
       "  Teachers Help Students Teachers Treat Students Fair  \n",
       "0                  Agree                     Disagree  \n",
       "1                    NaN                          NaN  \n",
       "2                    NaN                          NaN  \n",
       "3                    NaN                          NaN  \n",
       "4                  Agree                        Agree  "
      ]
     },
     "execution_count": 4,
     "metadata": {},
     "output_type": "execute_result"
    }
   ],
   "source": [
    "# rename the column name according to description\n",
    "relation.columns = ['Get Along with Teachers', 'Teachers Are Interested', 'Teachers Listen to Students', \\\n",
    "                    'Teachers Help Students', 'Teachers Treat Students Fair']\n",
    "relation.head()"
   ]
  },
  {
   "cell_type": "code",
   "execution_count": 5,
   "metadata": {
    "slideshow": {
     "slide_type": "skip"
    }
   },
   "outputs": [
    {
     "data": {
      "text/html": [
       "<div>\n",
       "<style scoped>\n",
       "    .dataframe tbody tr th:only-of-type {\n",
       "        vertical-align: middle;\n",
       "    }\n",
       "\n",
       "    .dataframe tbody tr th {\n",
       "        vertical-align: top;\n",
       "    }\n",
       "\n",
       "    .dataframe thead th {\n",
       "        text-align: right;\n",
       "    }\n",
       "</style>\n",
       "<table border=\"1\" class=\"dataframe\">\n",
       "  <thead>\n",
       "    <tr style=\"text-align: right;\">\n",
       "      <th></th>\n",
       "      <th>Get Along with Teachers</th>\n",
       "      <th>Teachers Are Interested</th>\n",
       "      <th>Teachers Listen to Students</th>\n",
       "      <th>Teachers Help Students</th>\n",
       "      <th>Teachers Treat Students Fair</th>\n",
       "    </tr>\n",
       "  </thead>\n",
       "  <tbody>\n",
       "    <tr>\n",
       "      <th>0</th>\n",
       "      <td>Agree</td>\n",
       "      <td>Strongly disagree</td>\n",
       "      <td>Agree</td>\n",
       "      <td>Agree</td>\n",
       "      <td>Disagree</td>\n",
       "    </tr>\n",
       "    <tr>\n",
       "      <th>4</th>\n",
       "      <td>Agree</td>\n",
       "      <td>Agree</td>\n",
       "      <td>Agree</td>\n",
       "      <td>Agree</td>\n",
       "      <td>Agree</td>\n",
       "    </tr>\n",
       "    <tr>\n",
       "      <th>5</th>\n",
       "      <td>Agree</td>\n",
       "      <td>Strongly agree</td>\n",
       "      <td>Agree</td>\n",
       "      <td>Strongly agree</td>\n",
       "      <td>Agree</td>\n",
       "    </tr>\n",
       "    <tr>\n",
       "      <th>6</th>\n",
       "      <td>Strongly agree</td>\n",
       "      <td>Agree</td>\n",
       "      <td>Strongly agree</td>\n",
       "      <td>Agree</td>\n",
       "      <td>Strongly agree</td>\n",
       "    </tr>\n",
       "    <tr>\n",
       "      <th>7</th>\n",
       "      <td>Strongly agree</td>\n",
       "      <td>Strongly agree</td>\n",
       "      <td>Strongly agree</td>\n",
       "      <td>Strongly agree</td>\n",
       "      <td>Agree</td>\n",
       "    </tr>\n",
       "  </tbody>\n",
       "</table>\n",
       "</div>"
      ],
      "text/plain": [
       "  Get Along with Teachers Teachers Are Interested Teachers Listen to Students  \\\n",
       "0                   Agree       Strongly disagree                       Agree   \n",
       "4                   Agree                   Agree                       Agree   \n",
       "5                   Agree          Strongly agree                       Agree   \n",
       "6          Strongly agree                   Agree              Strongly agree   \n",
       "7          Strongly agree          Strongly agree              Strongly agree   \n",
       "\n",
       "  Teachers Help Students Teachers Treat Students Fair  \n",
       "0                  Agree                     Disagree  \n",
       "4                  Agree                        Agree  \n",
       "5         Strongly agree                        Agree  \n",
       "6                  Agree               Strongly agree  \n",
       "7         Strongly agree                        Agree  "
      ]
     },
     "execution_count": 5,
     "metadata": {},
     "output_type": "execute_result"
    }
   ],
   "source": [
    "# drop rows that have missing values \n",
    "relation = relation.dropna()\n",
    "relation.head()"
   ]
  },
  {
   "cell_type": "code",
   "execution_count": 6,
   "metadata": {
    "slideshow": {
     "slide_type": "slide"
    }
   },
   "outputs": [
    {
     "data": {
      "image/png": "[encoded data removed]",
      "text/plain": [
       "<Figure size 432x288 with 1 Axes>"
      ]
     },
     "metadata": {
      "needs_background": "light"
     },
     "output_type": "display_data"
    }
   ],
   "source": [
    "# see distribution of each column by countplot\n",
    "sb.countplot(x=\"Get Along with Teachers\", data=relation, color = sb.color_palette()[0]);\n",
    "plt.xticks(np.arange(4),('Strongly agree', 'Agree', 'Disagree', 'Strongly disagree'));\n",
    "plt.title(\"Distribution of Student-Teacher Relationship\");"
   ]
  },
  {
   "cell_type": "code",
   "execution_count": 7,
   "metadata": {
    "slideshow": {
     "slide_type": "slide"
    }
   },
   "outputs": [
    {
     "data": {
      "image/png": "[encoded data removed]",
      "text/plain": [
       "<Figure size 432x288 with 1 Axes>"
      ]
     },
     "metadata": {
      "needs_background": "light"
     },
     "output_type": "display_data"
    }
   ],
   "source": [
    "sb.countplot(x=\"Teachers Are Interested\", data=relation, color = sb.color_palette()[0]);\n",
    "plt.xticks(np.arange(4),('Strongly agree', 'Agree', 'Disagree', 'Strongly disagree'));\n",
    "plt.title(\"Distribution of Student-Teacher Relationship\");"
   ]
  },
  {
   "cell_type": "code",
   "execution_count": 143,
   "metadata": {
    "slideshow": {
     "slide_type": "slide"
    }
   },
   "outputs": [
    {
     "data": {
      "image/png": "[encoded data removed]",
      "text/plain": [
       "<Figure size 432x288 with 1 Axes>"
      ]
     },
     "metadata": {
      "needs_background": "light"
     },
     "output_type": "display_data"
    }
   ],
   "source": [
    "sb.countplot(x=\"Teachers Listen to Students\", data=relation, color = sb.color_palette()[0]);\n",
    "plt.xticks(np.arange(4),('Strongly agree', 'Agree', 'Disagree', 'Strongly disagree'));\n",
    "plt.title(\"Distribution of Student-Teacher Relationship\");"
   ]
  },
  {
   "cell_type": "code",
   "execution_count": 144,
   "metadata": {
    "slideshow": {
     "slide_type": "slide"
    }
   },
   "outputs": [
    {
     "data": {
      "image/png": "[encoded data removed]",
      "text/plain": [
       "<Figure size 432x288 with 1 Axes>"
      ]
     },
     "metadata": {
      "needs_background": "light"
     },
     "output_type": "display_data"
    }
   ],
   "source": [
    "sb.countplot(x=\"Teachers Help Students\", data=relation, color = sb.color_palette()[0]);\n",
    "plt.xticks(np.arange(4),('Strongly agree', 'Agree', 'Disagree', 'Strongly disagree'));\n",
    "plt.title(\"Distribution of Student-Teacher Relationship\");"
   ]
  },
  {
   "cell_type": "code",
   "execution_count": 145,
   "metadata": {
    "slideshow": {
     "slide_type": "slide"
    }
   },
   "outputs": [
    {
     "data": {
      "image/png": "[encoded data removed]",
      "text/plain": [
       "<Figure size 432x288 with 1 Axes>"
      ]
     },
     "metadata": {
      "needs_background": "light"
     },
     "output_type": "display_data"
    }
   ],
   "source": [
    "sb.countplot(x=\"Teachers Treat Students Fair\", data=relation, color = sb.color_palette()[0]);\n",
    "plt.xticks(np.arange(4),('Strongly agree', 'Agree', 'Disagree', 'Strongly disagree'));\n",
    "plt.title(\"Distribution of Student-Teacher Relationship\");"
   ]
  },
  {
   "cell_type": "markdown",
   "metadata": {
    "slideshow": {
     "slide_type": "subslide"
    }
   },
   "source": [
    "#### A1. \n",
    "Most Student-Teacher Relationship are in descending order, starting from strongly agree to strongly disagree, except two columns. The two columns are 'Teachers Are Interested' and 'Teachers Treat Students Fair'. The former's count on 'Strongly agree' was the least, and the latter's count on 'Strongly agree' was second to the least. Except 'Strongly agree', they are in descending order as well, starting from agree to strongly disagree"
   ]
  },
  {
   "cell_type": "markdown",
   "metadata": {
    "slideshow": {
     "slide_type": "slide"
    }
   },
   "source": [
    "### Q2. How is the sense of belonging is distributed?"
   ]
  },
  {
   "cell_type": "code",
   "execution_count": 8,
   "metadata": {
    "slideshow": {
     "slide_type": "skip"
    }
   },
   "outputs": [],
   "source": [
    "# pick data only related to sense of belonging \n",
    "belonging = pisa2012[['ST87Q01', 'ST87Q02', 'ST87Q03', 'ST87Q04', 'ST87Q05', 'ST87Q06', 'ST87Q07', \\\n",
    "                      'ST87Q08', 'ST87Q09']]"
   ]
  },
  {
   "cell_type": "code",
   "execution_count": 9,
   "metadata": {
    "slideshow": {
     "slide_type": "skip"
    }
   },
   "outputs": [
    {
     "data": {
      "text/html": [
       "<div>\n",
       "<style scoped>\n",
       "    .dataframe tbody tr th:only-of-type {\n",
       "        vertical-align: middle;\n",
       "    }\n",
       "\n",
       "    .dataframe tbody tr th {\n",
       "        vertical-align: top;\n",
       "    }\n",
       "\n",
       "    .dataframe thead th {\n",
       "        text-align: right;\n",
       "    }\n",
       "</style>\n",
       "<table border=\"1\" class=\"dataframe\">\n",
       "  <thead>\n",
       "    <tr style=\"text-align: right;\">\n",
       "      <th></th>\n",
       "      <th>Feel Like Outsider</th>\n",
       "      <th>Make Friends Easily</th>\n",
       "      <th>Belong at School</th>\n",
       "      <th>Feel Awkward at School</th>\n",
       "      <th>Liked by Other Students</th>\n",
       "      <th>Feel Lonely at School</th>\n",
       "      <th>Feel Happy at School</th>\n",
       "      <th>Things Are Ideal at School</th>\n",
       "      <th>Satisfied at School</th>\n",
       "    </tr>\n",
       "  </thead>\n",
       "  <tbody>\n",
       "    <tr>\n",
       "      <th>0</th>\n",
       "      <td>Agree</td>\n",
       "      <td>Agree</td>\n",
       "      <td>Strongly disagree</td>\n",
       "      <td>Strongly agree</td>\n",
       "      <td>Strongly agree</td>\n",
       "      <td>Strongly disagree</td>\n",
       "      <td>Agree</td>\n",
       "      <td>Strongly disagree</td>\n",
       "      <td>Agree</td>\n",
       "    </tr>\n",
       "    <tr>\n",
       "      <th>1</th>\n",
       "      <td>NaN</td>\n",
       "      <td>NaN</td>\n",
       "      <td>NaN</td>\n",
       "      <td>NaN</td>\n",
       "      <td>NaN</td>\n",
       "      <td>NaN</td>\n",
       "      <td>NaN</td>\n",
       "      <td>NaN</td>\n",
       "      <td>NaN</td>\n",
       "    </tr>\n",
       "    <tr>\n",
       "      <th>2</th>\n",
       "      <td>NaN</td>\n",
       "      <td>NaN</td>\n",
       "      <td>NaN</td>\n",
       "      <td>NaN</td>\n",
       "      <td>NaN</td>\n",
       "      <td>NaN</td>\n",
       "      <td>NaN</td>\n",
       "      <td>NaN</td>\n",
       "      <td>NaN</td>\n",
       "    </tr>\n",
       "    <tr>\n",
       "      <th>3</th>\n",
       "      <td>NaN</td>\n",
       "      <td>NaN</td>\n",
       "      <td>NaN</td>\n",
       "      <td>NaN</td>\n",
       "      <td>NaN</td>\n",
       "      <td>NaN</td>\n",
       "      <td>NaN</td>\n",
       "      <td>NaN</td>\n",
       "      <td>NaN</td>\n",
       "    </tr>\n",
       "    <tr>\n",
       "      <th>4</th>\n",
       "      <td>Strongly disagree</td>\n",
       "      <td>Strongly agree</td>\n",
       "      <td>Strongly agree</td>\n",
       "      <td>Strongly disagree</td>\n",
       "      <td>Strongly agree</td>\n",
       "      <td>Strongly disagree</td>\n",
       "      <td>Strongly agree</td>\n",
       "      <td>Strongly agree</td>\n",
       "      <td>Strongly agree</td>\n",
       "    </tr>\n",
       "  </tbody>\n",
       "</table>\n",
       "</div>"
      ],
      "text/plain": [
       "  Feel Like Outsider Make Friends Easily   Belong at School  \\\n",
       "0              Agree               Agree  Strongly disagree   \n",
       "1                NaN                 NaN                NaN   \n",
       "2                NaN                 NaN                NaN   \n",
       "3                NaN                 NaN                NaN   \n",
       "4  Strongly disagree      Strongly agree     Strongly agree   \n",
       "\n",
       "  Feel Awkward at School Liked by Other Students Feel Lonely at School  \\\n",
       "0         Strongly agree          Strongly agree     Strongly disagree   \n",
       "1                    NaN                     NaN                   NaN   \n",
       "2                    NaN                     NaN                   NaN   \n",
       "3                    NaN                     NaN                   NaN   \n",
       "4      Strongly disagree          Strongly agree     Strongly disagree   \n",
       "\n",
       "  Feel Happy at School Things Are Ideal at School Satisfied at School  \n",
       "0                Agree          Strongly disagree               Agree  \n",
       "1                  NaN                        NaN                 NaN  \n",
       "2                  NaN                        NaN                 NaN  \n",
       "3                  NaN                        NaN                 NaN  \n",
       "4       Strongly agree             Strongly agree      Strongly agree  "
      ]
     },
     "execution_count": 9,
     "metadata": {},
     "output_type": "execute_result"
    }
   ],
   "source": [
    "# rename the column name according to description\n",
    "belonging.columns=['Feel Like Outsider', 'Make Friends Easily', 'Belong at School', 'Feel Awkward at School', \\\n",
    "                   'Liked by Other Students', 'Feel Lonely at School', 'Feel Happy at School', \\\n",
    "                   'Things Are Ideal at School', 'Satisfied at School']\n",
    "belonging.head()"
   ]
  },
  {
   "cell_type": "code",
   "execution_count": 10,
   "metadata": {
    "slideshow": {
     "slide_type": "skip"
    }
   },
   "outputs": [
    {
     "data": {
      "text/html": [
       "<div>\n",
       "<style scoped>\n",
       "    .dataframe tbody tr th:only-of-type {\n",
       "        vertical-align: middle;\n",
       "    }\n",
       "\n",
       "    .dataframe tbody tr th {\n",
       "        vertical-align: top;\n",
       "    }\n",
       "\n",
       "    .dataframe thead th {\n",
       "        text-align: right;\n",
       "    }\n",
       "</style>\n",
       "<table border=\"1\" class=\"dataframe\">\n",
       "  <thead>\n",
       "    <tr style=\"text-align: right;\">\n",
       "      <th></th>\n",
       "      <th>Feel Like Outsider</th>\n",
       "      <th>Make Friends Easily</th>\n",
       "      <th>Belong at School</th>\n",
       "      <th>Feel Awkward at School</th>\n",
       "      <th>Liked by Other Students</th>\n",
       "      <th>Feel Lonely at School</th>\n",
       "      <th>Feel Happy at School</th>\n",
       "      <th>Things Are Ideal at School</th>\n",
       "      <th>Satisfied at School</th>\n",
       "    </tr>\n",
       "  </thead>\n",
       "  <tbody>\n",
       "    <tr>\n",
       "      <th>0</th>\n",
       "      <td>Agree</td>\n",
       "      <td>Agree</td>\n",
       "      <td>Strongly disagree</td>\n",
       "      <td>Strongly agree</td>\n",
       "      <td>Strongly agree</td>\n",
       "      <td>Strongly disagree</td>\n",
       "      <td>Agree</td>\n",
       "      <td>Strongly disagree</td>\n",
       "      <td>Agree</td>\n",
       "    </tr>\n",
       "    <tr>\n",
       "      <th>4</th>\n",
       "      <td>Strongly disagree</td>\n",
       "      <td>Strongly agree</td>\n",
       "      <td>Strongly agree</td>\n",
       "      <td>Strongly disagree</td>\n",
       "      <td>Strongly agree</td>\n",
       "      <td>Strongly disagree</td>\n",
       "      <td>Strongly agree</td>\n",
       "      <td>Strongly agree</td>\n",
       "      <td>Strongly agree</td>\n",
       "    </tr>\n",
       "    <tr>\n",
       "      <th>5</th>\n",
       "      <td>Disagree</td>\n",
       "      <td>Agree</td>\n",
       "      <td>Agree</td>\n",
       "      <td>Strongly disagree</td>\n",
       "      <td>Agree</td>\n",
       "      <td>Strongly disagree</td>\n",
       "      <td>Agree</td>\n",
       "      <td>Agree</td>\n",
       "      <td>Agree</td>\n",
       "    </tr>\n",
       "    <tr>\n",
       "      <th>6</th>\n",
       "      <td>Strongly disagree</td>\n",
       "      <td>Disagree</td>\n",
       "      <td>Agree</td>\n",
       "      <td>Agree</td>\n",
       "      <td>Agree</td>\n",
       "      <td>Strongly disagree</td>\n",
       "      <td>Strongly agree</td>\n",
       "      <td>Strongly agree</td>\n",
       "      <td>Strongly agree</td>\n",
       "    </tr>\n",
       "    <tr>\n",
       "      <th>7</th>\n",
       "      <td>Disagree</td>\n",
       "      <td>Agree</td>\n",
       "      <td>Agree</td>\n",
       "      <td>Disagree</td>\n",
       "      <td>Agree</td>\n",
       "      <td>Strongly agree</td>\n",
       "      <td>Agree</td>\n",
       "      <td>Strongly agree</td>\n",
       "      <td>Agree</td>\n",
       "    </tr>\n",
       "  </tbody>\n",
       "</table>\n",
       "</div>"
      ],
      "text/plain": [
       "  Feel Like Outsider Make Friends Easily   Belong at School  \\\n",
       "0              Agree               Agree  Strongly disagree   \n",
       "4  Strongly disagree      Strongly agree     Strongly agree   \n",
       "5           Disagree               Agree              Agree   \n",
       "6  Strongly disagree            Disagree              Agree   \n",
       "7           Disagree               Agree              Agree   \n",
       "\n",
       "  Feel Awkward at School Liked by Other Students Feel Lonely at School  \\\n",
       "0         Strongly agree          Strongly agree     Strongly disagree   \n",
       "4      Strongly disagree          Strongly agree     Strongly disagree   \n",
       "5      Strongly disagree                   Agree     Strongly disagree   \n",
       "6                  Agree                   Agree     Strongly disagree   \n",
       "7               Disagree                   Agree        Strongly agree   \n",
       "\n",
       "  Feel Happy at School Things Are Ideal at School Satisfied at School  \n",
       "0                Agree          Strongly disagree               Agree  \n",
       "4       Strongly agree             Strongly agree      Strongly agree  \n",
       "5                Agree                      Agree               Agree  \n",
       "6       Strongly agree             Strongly agree      Strongly agree  \n",
       "7                Agree             Strongly agree               Agree  "
      ]
     },
     "execution_count": 10,
     "metadata": {},
     "output_type": "execute_result"
    }
   ],
   "source": [
    "# drop rows that have missing values \n",
    "belonging = belonging.dropna()\n",
    "belonging.head()"
   ]
  },
  {
   "cell_type": "code",
   "execution_count": 11,
   "metadata": {
    "slideshow": {
     "slide_type": "slide"
    }
   },
   "outputs": [
    {
     "data": {
      "image/png": "[encoded data removed]",
      "text/plain": [
       "<Figure size 432x288 with 1 Axes>"
      ]
     },
     "metadata": {
      "needs_background": "light"
     },
     "output_type": "display_data"
    }
   ],
   "source": [
    "# see distribution of each column by countplot\n",
    "sb.countplot(x=\"Feel Like Outsider\", data=belonging, color = sb.color_palette()[0]);\n",
    "plt.xticks(np.arange(4),('Strongly agree', 'Agree', 'Disagree', 'Strongly disagree'));\n",
    "plt.title(\"Distribution of Sense of Belonging\");"
   ]
  },
  {
   "cell_type": "code",
   "execution_count": 12,
   "metadata": {
    "slideshow": {
     "slide_type": "slide"
    }
   },
   "outputs": [
    {
     "data": {
      "image/png": "[encoded data removed]",
      "text/plain": [
       "<Figure size 432x288 with 1 Axes>"
      ]
     },
     "metadata": {
      "needs_background": "light"
     },
     "output_type": "display_data"
    }
   ],
   "source": [
    "sb.countplot(x=\"Make Friends Easily\", data=belonging, color = sb.color_palette()[0]);\n",
    "plt.xticks(np.arange(4),('Strongly agree', 'Agree', 'Disagree', 'Strongly disagree'));\n",
    "plt.title(\"Distribution of Sense of Belonging\");"
   ]
  },
  {
   "cell_type": "code",
   "execution_count": 146,
   "metadata": {
    "slideshow": {
     "slide_type": "slide"
    }
   },
   "outputs": [
    {
     "data": {
      "image/png": "[encoded data removed]",
      "text/plain": [
       "<Figure size 432x288 with 1 Axes>"
      ]
     },
     "metadata": {
      "needs_background": "light"
     },
     "output_type": "display_data"
    }
   ],
   "source": [
    "sb.countplot(x=\"Belong at School\", data=belonging, color = sb.color_palette()[0]);\n",
    "plt.xticks(np.arange(4),('Strongly agree', 'Agree', 'Disagree', 'Strongly disagree'));\n",
    "plt.title(\"Distribution of Sense of Belonging\");"
   ]
  },
  {
   "cell_type": "code",
   "execution_count": 153,
   "metadata": {
    "slideshow": {
     "slide_type": "slide"
    }
   },
   "outputs": [
    {
     "data": {
      "image/png": "[encoded data removed]",
      "text/plain": [
       "<Figure size 432x288 with 1 Axes>"
      ]
     },
     "metadata": {
      "needs_background": "light"
     },
     "output_type": "display_data"
    }
   ],
   "source": [
    "sb.countplot(x=\"Feel Awkward at School\", data=belonging, color = sb.color_palette()[0]);\n",
    "plt.xticks(np.arange(4),('Strongly agree', 'Agree', 'Disagree', 'Strongly disagree'));\n",
    "plt.title(\"Distribution of Sense of Belonging\");"
   ]
  },
  {
   "cell_type": "code",
   "execution_count": 148,
   "metadata": {
    "slideshow": {
     "slide_type": "slide"
    }
   },
   "outputs": [
    {
     "data": {
      "image/png": "[encoded data removed]",
      "text/plain": [
       "<Figure size 432x288 with 1 Axes>"
      ]
     },
     "metadata": {
      "needs_background": "light"
     },
     "output_type": "display_data"
    }
   ],
   "source": [
    "sb.countplot(x=\"Liked by Other Students\", data=belonging, color = sb.color_palette()[0]);\n",
    "plt.xticks(np.arange(4),('Strongly agree', 'Agree', 'Disagree', 'Strongly disagree'));\n",
    "plt.title(\"Distribution of Sense of Belonging\");"
   ]
  },
  {
   "cell_type": "code",
   "execution_count": 149,
   "metadata": {
    "slideshow": {
     "slide_type": "slide"
    }
   },
   "outputs": [
    {
     "data": {
      "image/png": "[encoded data removed]",
      "text/plain": [
       "<Figure size 432x288 with 1 Axes>"
      ]
     },
     "metadata": {
      "needs_background": "light"
     },
     "output_type": "display_data"
    }
   ],
   "source": [
    "sb.countplot(x=\"Feel Lonely at School\", data=belonging, color = sb.color_palette()[0]);\n",
    "plt.xticks(np.arange(4),('Strongly agree', 'Agree', 'Disagree', 'Strongly disagree'));\n",
    "plt.title(\"Distribution of Sense of Belonging\");"
   ]
  },
  {
   "cell_type": "code",
   "execution_count": 150,
   "metadata": {
    "slideshow": {
     "slide_type": "slide"
    }
   },
   "outputs": [
    {
     "data": {
      "image/png": "[encoded data removed]",
      "text/plain": [
       "<Figure size 432x288 with 1 Axes>"
      ]
     },
     "metadata": {
      "needs_background": "light"
     },
     "output_type": "display_data"
    }
   ],
   "source": [
    "sb.countplot(x=\"Feel Happy at School\", data=belonging, color = sb.color_palette()[0]);\n",
    "plt.xticks(np.arange(4),('Strongly agree', 'Agree', 'Disagree', 'Strongly disagree'));\n",
    "plt.title(\"Distribution of Sense of Belonging\");"
   ]
  },
  {
   "cell_type": "code",
   "execution_count": 151,
   "metadata": {
    "slideshow": {
     "slide_type": "slide"
    }
   },
   "outputs": [
    {
     "data": {
      "image/png": "[encoded data removed]",
      "text/plain": [
       "<Figure size 432x288 with 1 Axes>"
      ]
     },
     "metadata": {
      "needs_background": "light"
     },
     "output_type": "display_data"
    }
   ],
   "source": [
    "sb.countplot(x=\"Things Are Ideal at School\", data=belonging, color = sb.color_palette()[0]);\n",
    "plt.xticks(np.arange(4),('Strongly agree', 'Agree', 'Disagree', 'Strongly disagree'));\n",
    "plt.title(\"Distribution of Sense of Belonging\");"
   ]
  },
  {
   "cell_type": "code",
   "execution_count": 152,
   "metadata": {
    "slideshow": {
     "slide_type": "slide"
    }
   },
   "outputs": [
    {
     "data": {
      "image/png": "[encoded data removed]",
      "text/plain": [
       "<Figure size 432x288 with 1 Axes>"
      ]
     },
     "metadata": {
      "needs_background": "light"
     },
     "output_type": "display_data"
    }
   ],
   "source": [
    "sb.countplot(x=\"Satisfied at School\", data=belonging, color = sb.color_palette()[0]);\n",
    "plt.xticks(np.arange(4),('Strongly agree', 'Agree', 'Disagree', 'Strongly disagree'));\n",
    "plt.title(\"Distribution of Sense of Belonging\");"
   ]
  },
  {
   "cell_type": "markdown",
   "metadata": {
    "slideshow": {
     "slide_type": "subslide"
    }
   },
   "source": [
    "#### A2. \n",
    "Most students choose 'Strongly agree' in 'Satisfied at School', 'Feel Happy at School',  'Feel Lonely at School', and 'Make Friends Easily'.\n",
    "Only in the column 'Liked by Other Students' choose students 'Agree' the most.\n",
    "In 'Feel Like Outsider', 'Belong at School', 'Things Are Ideal at School', most students picked 'Disagree'.\n",
    "And finally, most students 'strongly disagreed' in 'Feel Awkward at School'."
   ]
  },
  {
   "cell_type": "markdown",
   "metadata": {
    "slideshow": {
     "slide_type": "slide"
    }
   },
   "source": [
    "<a id='03'> </a>\n",
    "## Bivariate Exploration\n",
    "In bivariate exploration, I will look at the realtionship between two variables and use heatmap to visualize the results.\n",
    "\n",
    "* KEYWORD : Score, Heat Map"
   ]
  },
  {
   "cell_type": "markdown",
   "metadata": {
    "slideshow": {
     "slide_type": "slide"
    }
   },
   "source": [
    "### Q1. How is the birth-month and score is related? Does being borned in earlier month have advantage in terms of score?"
   ]
  },
  {
   "cell_type": "code",
   "execution_count": 13,
   "metadata": {
    "slideshow": {
     "slide_type": "skip"
    }
   },
   "outputs": [],
   "source": [
    "# creat new dataframe to store score and birth months information\n",
    "score_birth = pd.DataFrame()\n",
    "\n",
    "# calculate each subject's mean score \n",
    "score_birth['math'] = (pisa2012['PV1MATH']+pisa2012['PV2MATH']+pisa2012['PV3MATH']+pisa2012['PV4MATH']+\\\n",
    "pisa2012['PV5MATH'])/5\n",
    "score_birth['reading'] = (pisa2012['PV1READ']+pisa2012['PV2READ']+pisa2012['PV3READ']+pisa2012['PV4READ']+\\\n",
    "                   pisa2012['PV5READ'])/5\n",
    "score_birth['science'] = (pisa2012['PV1SCIE']+pisa2012['PV2SCIE']+pisa2012['PV3SCIE']+pisa2012['PV4SCIE']+\\\n",
    "                   pisa2012['PV5SCIE'])/5\n",
    "\n",
    "# calculate total mean of all subjects' score \n",
    "score_birth['score'] = (score_birth['math']+score_birth['reading']+score_birth['science'])/3\n",
    "\n",
    "# get data about birth month of students \n",
    "score_birth['birth'] = pisa2012.ST03Q01"
   ]
  },
  {
   "cell_type": "code",
   "execution_count": 14,
   "metadata": {
    "slideshow": {
     "slide_type": "skip"
    }
   },
   "outputs": [
    {
     "data": {
      "text/html": [
       "<div>\n",
       "<style scoped>\n",
       "    .dataframe tbody tr th:only-of-type {\n",
       "        vertical-align: middle;\n",
       "    }\n",
       "\n",
       "    .dataframe tbody tr th {\n",
       "        vertical-align: top;\n",
       "    }\n",
       "\n",
       "    .dataframe thead th {\n",
       "        text-align: right;\n",
       "    }\n",
       "</style>\n",
       "<table border=\"1\" class=\"dataframe\">\n",
       "  <thead>\n",
       "    <tr style=\"text-align: right;\">\n",
       "      <th></th>\n",
       "      <th>math</th>\n",
       "      <th>reading</th>\n",
       "      <th>science</th>\n",
       "      <th>score</th>\n",
       "      <th>birth</th>\n",
       "    </tr>\n",
       "  </thead>\n",
       "  <tbody>\n",
       "    <tr>\n",
       "      <th>0</th>\n",
       "      <td>366.18634</td>\n",
       "      <td>261.01424</td>\n",
       "      <td>371.91348</td>\n",
       "      <td>333.038020</td>\n",
       "      <td>2</td>\n",
       "    </tr>\n",
       "    <tr>\n",
       "      <th>1</th>\n",
       "      <td>470.56396</td>\n",
       "      <td>384.68832</td>\n",
       "      <td>478.12382</td>\n",
       "      <td>444.458700</td>\n",
       "      <td>2</td>\n",
       "    </tr>\n",
       "    <tr>\n",
       "      <th>2</th>\n",
       "      <td>505.53824</td>\n",
       "      <td>405.18154</td>\n",
       "      <td>486.60946</td>\n",
       "      <td>465.776413</td>\n",
       "      <td>9</td>\n",
       "    </tr>\n",
       "    <tr>\n",
       "      <th>3</th>\n",
       "      <td>449.45476</td>\n",
       "      <td>477.46376</td>\n",
       "      <td>453.97240</td>\n",
       "      <td>460.296973</td>\n",
       "      <td>8</td>\n",
       "    </tr>\n",
       "    <tr>\n",
       "      <th>4</th>\n",
       "      <td>385.50398</td>\n",
       "      <td>256.01010</td>\n",
       "      <td>367.15778</td>\n",
       "      <td>336.223953</td>\n",
       "      <td>10</td>\n",
       "    </tr>\n",
       "  </tbody>\n",
       "</table>\n",
       "</div>"
      ],
      "text/plain": [
       "        math    reading    science       score  birth\n",
       "0  366.18634  261.01424  371.91348  333.038020      2\n",
       "1  470.56396  384.68832  478.12382  444.458700      2\n",
       "2  505.53824  405.18154  486.60946  465.776413      9\n",
       "3  449.45476  477.46376  453.97240  460.296973      8\n",
       "4  385.50398  256.01010  367.15778  336.223953     10"
      ]
     },
     "execution_count": 14,
     "metadata": {},
     "output_type": "execute_result"
    }
   ],
   "source": [
    "score_birth.head()"
   ]
  },
  {
   "cell_type": "code",
   "execution_count": 21,
   "metadata": {
    "slideshow": {
     "slide_type": "skip"
    }
   },
   "outputs": [
    {
     "data": {
      "text/plain": [
       "{1, 2, 3, 4, 5, 6, 7, 8, 9, 10, 11, 12, 99}"
      ]
     },
     "execution_count": 21,
     "metadata": {},
     "output_type": "execute_result"
    }
   ],
   "source": [
    "# check if there are wrong values \n",
    "set(score_birth.birth)"
   ]
  },
  {
   "cell_type": "code",
   "execution_count": 23,
   "metadata": {
    "slideshow": {
     "slide_type": "skip"
    }
   },
   "outputs": [],
   "source": [
    "# drop unappropriate values\n",
    "score_birth = score_birth.query('birth!=99')"
   ]
  },
  {
   "cell_type": "code",
   "execution_count": 24,
   "metadata": {
    "slideshow": {
     "slide_type": "skip"
    }
   },
   "outputs": [
    {
     "data": {
      "text/plain": [
       "{1, 2, 3, 4, 5, 6, 7, 8, 9, 10, 11, 12}"
      ]
     },
     "execution_count": 24,
     "metadata": {},
     "output_type": "execute_result"
    }
   ],
   "source": [
    "# check again\n",
    "set(score_birth.birth)"
   ]
  },
  {
   "cell_type": "code",
   "execution_count": 15,
   "metadata": {
    "slideshow": {
     "slide_type": "skip"
    }
   },
   "outputs": [],
   "source": [
    "# drop each subjects' mean score \n",
    "score_birth = score_birth.drop(['math', 'reading', 'science'], axis=1)"
   ]
  },
  {
   "cell_type": "code",
   "execution_count": 16,
   "metadata": {
    "slideshow": {
     "slide_type": "skip"
    }
   },
   "outputs": [
    {
     "data": {
      "text/html": [
       "<div>\n",
       "<style scoped>\n",
       "    .dataframe tbody tr th:only-of-type {\n",
       "        vertical-align: middle;\n",
       "    }\n",
       "\n",
       "    .dataframe tbody tr th {\n",
       "        vertical-align: top;\n",
       "    }\n",
       "\n",
       "    .dataframe thead th {\n",
       "        text-align: right;\n",
       "    }\n",
       "</style>\n",
       "<table border=\"1\" class=\"dataframe\">\n",
       "  <thead>\n",
       "    <tr style=\"text-align: right;\">\n",
       "      <th></th>\n",
       "      <th>score</th>\n",
       "      <th>birth</th>\n",
       "    </tr>\n",
       "  </thead>\n",
       "  <tbody>\n",
       "    <tr>\n",
       "      <th>0</th>\n",
       "      <td>333.038020</td>\n",
       "      <td>2</td>\n",
       "    </tr>\n",
       "    <tr>\n",
       "      <th>1</th>\n",
       "      <td>444.458700</td>\n",
       "      <td>2</td>\n",
       "    </tr>\n",
       "    <tr>\n",
       "      <th>2</th>\n",
       "      <td>465.776413</td>\n",
       "      <td>9</td>\n",
       "    </tr>\n",
       "    <tr>\n",
       "      <th>3</th>\n",
       "      <td>460.296973</td>\n",
       "      <td>8</td>\n",
       "    </tr>\n",
       "    <tr>\n",
       "      <th>4</th>\n",
       "      <td>336.223953</td>\n",
       "      <td>10</td>\n",
       "    </tr>\n",
       "  </tbody>\n",
       "</table>\n",
       "</div>"
      ],
      "text/plain": [
       "        score  birth\n",
       "0  333.038020      2\n",
       "1  444.458700      2\n",
       "2  465.776413      9\n",
       "3  460.296973      8\n",
       "4  336.223953     10"
      ]
     },
     "execution_count": 16,
     "metadata": {},
     "output_type": "execute_result"
    }
   ],
   "source": [
    "# drop NaNs \n",
    "score_birth = score_birth.dropna()\n",
    "score_birth.head()"
   ]
  },
  {
   "cell_type": "code",
   "execution_count": 61,
   "metadata": {
    "slideshow": {
     "slide_type": "skip"
    }
   },
   "outputs": [
    {
     "data": {
      "text/html": [
       "<div>\n",
       "<style scoped>\n",
       "    .dataframe tbody tr th:only-of-type {\n",
       "        vertical-align: middle;\n",
       "    }\n",
       "\n",
       "    .dataframe tbody tr th {\n",
       "        vertical-align: top;\n",
       "    }\n",
       "\n",
       "    .dataframe thead th {\n",
       "        text-align: right;\n",
       "    }\n",
       "</style>\n",
       "<table border=\"1\" class=\"dataframe\">\n",
       "  <thead>\n",
       "    <tr style=\"text-align: right;\">\n",
       "      <th></th>\n",
       "      <th>count</th>\n",
       "      <th>mean</th>\n",
       "      <th>std</th>\n",
       "      <th>min</th>\n",
       "      <th>25%</th>\n",
       "      <th>50%</th>\n",
       "      <th>75%</th>\n",
       "      <th>max</th>\n",
       "    </tr>\n",
       "    <tr>\n",
       "      <th>birth</th>\n",
       "      <th></th>\n",
       "      <th></th>\n",
       "      <th></th>\n",
       "      <th></th>\n",
       "      <th></th>\n",
       "      <th></th>\n",
       "      <th></th>\n",
       "      <th></th>\n",
       "    </tr>\n",
       "  </thead>\n",
       "  <tbody>\n",
       "    <tr>\n",
       "      <th>1</th>\n",
       "      <td>40172.0</td>\n",
       "      <td>474.561960</td>\n",
       "      <td>96.548909</td>\n",
       "      <td>90.565307</td>\n",
       "      <td>405.605082</td>\n",
       "      <td>473.455010</td>\n",
       "      <td>544.175833</td>\n",
       "      <td>784.021767</td>\n",
       "    </tr>\n",
       "    <tr>\n",
       "      <th>2</th>\n",
       "      <td>36958.0</td>\n",
       "      <td>475.291622</td>\n",
       "      <td>96.393171</td>\n",
       "      <td>80.133120</td>\n",
       "      <td>406.500665</td>\n",
       "      <td>474.822990</td>\n",
       "      <td>544.458052</td>\n",
       "      <td>820.856000</td>\n",
       "    </tr>\n",
       "    <tr>\n",
       "      <th>3</th>\n",
       "      <td>40236.0</td>\n",
       "      <td>474.501115</td>\n",
       "      <td>96.770654</td>\n",
       "      <td>88.137060</td>\n",
       "      <td>406.087140</td>\n",
       "      <td>474.355733</td>\n",
       "      <td>543.819758</td>\n",
       "      <td>816.552207</td>\n",
       "    </tr>\n",
       "    <tr>\n",
       "      <th>4</th>\n",
       "      <td>39859.0</td>\n",
       "      <td>474.954494</td>\n",
       "      <td>96.446733</td>\n",
       "      <td>104.595000</td>\n",
       "      <td>406.352960</td>\n",
       "      <td>474.666487</td>\n",
       "      <td>544.392787</td>\n",
       "      <td>799.464160</td>\n",
       "    </tr>\n",
       "    <tr>\n",
       "      <th>5</th>\n",
       "      <td>41623.0</td>\n",
       "      <td>474.613432</td>\n",
       "      <td>96.356597</td>\n",
       "      <td>128.547527</td>\n",
       "      <td>405.753760</td>\n",
       "      <td>474.335267</td>\n",
       "      <td>543.548487</td>\n",
       "      <td>826.592027</td>\n",
       "    </tr>\n",
       "    <tr>\n",
       "      <th>6</th>\n",
       "      <td>40064.0</td>\n",
       "      <td>473.647078</td>\n",
       "      <td>96.062016</td>\n",
       "      <td>136.465787</td>\n",
       "      <td>405.416297</td>\n",
       "      <td>473.557623</td>\n",
       "      <td>542.699323</td>\n",
       "      <td>822.674880</td>\n",
       "    </tr>\n",
       "    <tr>\n",
       "      <th>7</th>\n",
       "      <td>42106.0</td>\n",
       "      <td>472.313845</td>\n",
       "      <td>95.991647</td>\n",
       "      <td>114.454233</td>\n",
       "      <td>403.746165</td>\n",
       "      <td>472.045877</td>\n",
       "      <td>541.524240</td>\n",
       "      <td>822.846287</td>\n",
       "    </tr>\n",
       "    <tr>\n",
       "      <th>8</th>\n",
       "      <td>42696.0</td>\n",
       "      <td>470.226623</td>\n",
       "      <td>95.207930</td>\n",
       "      <td>102.284080</td>\n",
       "      <td>402.152902</td>\n",
       "      <td>469.071870</td>\n",
       "      <td>537.726757</td>\n",
       "      <td>793.434260</td>\n",
       "    </tr>\n",
       "    <tr>\n",
       "      <th>9</th>\n",
       "      <td>41474.0</td>\n",
       "      <td>470.992381</td>\n",
       "      <td>95.813644</td>\n",
       "      <td>82.631327</td>\n",
       "      <td>402.500845</td>\n",
       "      <td>470.983110</td>\n",
       "      <td>539.925742</td>\n",
       "      <td>791.790727</td>\n",
       "    </tr>\n",
       "    <tr>\n",
       "      <th>10</th>\n",
       "      <td>41466.0</td>\n",
       "      <td>470.905264</td>\n",
       "      <td>95.544470</td>\n",
       "      <td>77.114593</td>\n",
       "      <td>402.188630</td>\n",
       "      <td>470.486600</td>\n",
       "      <td>539.773853</td>\n",
       "      <td>794.411340</td>\n",
       "    </tr>\n",
       "    <tr>\n",
       "      <th>11</th>\n",
       "      <td>38999.0</td>\n",
       "      <td>469.862759</td>\n",
       "      <td>95.441893</td>\n",
       "      <td>83.812607</td>\n",
       "      <td>401.525980</td>\n",
       "      <td>469.857153</td>\n",
       "      <td>538.414180</td>\n",
       "      <td>824.902680</td>\n",
       "    </tr>\n",
       "    <tr>\n",
       "      <th>12</th>\n",
       "      <td>39721.0</td>\n",
       "      <td>468.464515</td>\n",
       "      <td>95.645372</td>\n",
       "      <td>111.033993</td>\n",
       "      <td>400.269600</td>\n",
       "      <td>468.088420</td>\n",
       "      <td>536.830053</td>\n",
       "      <td>798.882900</td>\n",
       "    </tr>\n",
       "  </tbody>\n",
       "</table>\n",
       "</div>"
      ],
      "text/plain": [
       "         count        mean        std         min         25%         50%  \\\n",
       "birth                                                                       \n",
       "1      40172.0  474.561960  96.548909   90.565307  405.605082  473.455010   \n",
       "2      36958.0  475.291622  96.393171   80.133120  406.500665  474.822990   \n",
       "3      40236.0  474.501115  96.770654   88.137060  406.087140  474.355733   \n",
       "4      39859.0  474.954494  96.446733  104.595000  406.352960  474.666487   \n",
       "5      41623.0  474.613432  96.356597  128.547527  405.753760  474.335267   \n",
       "6      40064.0  473.647078  96.062016  136.465787  405.416297  473.557623   \n",
       "7      42106.0  472.313845  95.991647  114.454233  403.746165  472.045877   \n",
       "8      42696.0  470.226623  95.207930  102.284080  402.152902  469.071870   \n",
       "9      41474.0  470.992381  95.813644   82.631327  402.500845  470.983110   \n",
       "10     41466.0  470.905264  95.544470   77.114593  402.188630  470.486600   \n",
       "11     38999.0  469.862759  95.441893   83.812607  401.525980  469.857153   \n",
       "12     39721.0  468.464515  95.645372  111.033993  400.269600  468.088420   \n",
       "\n",
       "              75%         max  \n",
       "birth                          \n",
       "1      544.175833  784.021767  \n",
       "2      544.458052  820.856000  \n",
       "3      543.819758  816.552207  \n",
       "4      544.392787  799.464160  \n",
       "5      543.548487  826.592027  \n",
       "6      542.699323  822.674880  \n",
       "7      541.524240  822.846287  \n",
       "8      537.726757  793.434260  \n",
       "9      539.925742  791.790727  \n",
       "10     539.773853  794.411340  \n",
       "11     538.414180  824.902680  \n",
       "12     536.830053  798.882900  "
      ]
     },
     "execution_count": 61,
     "metadata": {},
     "output_type": "execute_result"
    }
   ],
   "source": [
    "# check the statistics of score by birth month \n",
    "score_birth.groupby('birth').describe()['score']"
   ]
  },
  {
   "cell_type": "code",
   "execution_count": 93,
   "metadata": {
    "slideshow": {
     "slide_type": "skip"
    }
   },
   "outputs": [],
   "source": [
    "# set bins according to min and max values \n",
    "bins_x = np.arange(0.5, 12+1, 1)\n",
    "bins_y = np.arange(77, 827+50, 50)"
   ]
  },
  {
   "cell_type": "code",
   "execution_count": 98,
   "metadata": {
    "slideshow": {
     "slide_type": "slide"
    }
   },
   "outputs": [
    {
     "data": {
      "image/png": "[encoded data removed]",
      "text/plain": [
       "<Figure size 432x288 with 2 Axes>"
      ]
     },
     "metadata": {
      "needs_background": "light"
     },
     "output_type": "display_data"
    }
   ],
   "source": [
    "# check the relationship between score and birth month by heatmap \n",
    "plt.hist2d(data=score_birth, x='birth', y='score', cmin=10, cmap='viridis_r', bins=[bins_x, bins_y]);\n",
    "plt.xticks((1,2,3,4,5,6,7,8,9,10,11,12))\n",
    "plt.colorbar();\n",
    "plt.xlabel('Birth Month');\n",
    "plt.ylabel('Average Score');"
   ]
  },
  {
   "cell_type": "markdown",
   "metadata": {
    "slideshow": {
     "slide_type": "subslide"
    }
   },
   "source": [
    "#### A1. \n",
    "There seems no clear relationship between birth month and score."
   ]
  },
  {
   "cell_type": "markdown",
   "metadata": {
    "slideshow": {
     "slide_type": "slide"
    }
   },
   "source": [
    "### Q2. How is the possessions and score is related? Is there any certain possession that acts as a great predictor of high score?"
   ]
  },
  {
   "cell_type": "code",
   "execution_count": 100,
   "metadata": {
    "slideshow": {
     "slide_type": "skip"
    }
   },
   "outputs": [],
   "source": [
    "# get data only related to score and possessions \n",
    "score_poss = pd.DataFrame()\n",
    "poss=['ST26Q01', 'ST26Q02', 'ST26Q03', 'ST26Q04', 'ST26Q05', 'ST26Q06', 'ST26Q07', 'ST26Q08', 'ST26Q09'\\\n",
    "     ,'ST26Q10', 'ST26Q11', 'ST26Q12', 'ST26Q13', 'ST26Q14']\n",
    "score_poss = pisa2012[poss]"
   ]
  },
  {
   "cell_type": "code",
   "execution_count": 101,
   "metadata": {
    "slideshow": {
     "slide_type": "skip"
    }
   },
   "outputs": [],
   "source": [
    "# rename the column name according to description\n",
    "score_poss.columns = ['desk', 'own room', 'study place', 'computer', 'software', 'Internet', 'literature', 'poetry', \\\n",
    "                     'art', 'textbooks', 'technical reference books', 'dictionary', 'dishwasher', 'DVD']"
   ]
  },
  {
   "cell_type": "code",
   "execution_count": 102,
   "metadata": {
    "slideshow": {
     "slide_type": "skip"
    }
   },
   "outputs": [
    {
     "name": "stderr",
     "output_type": "stream",
     "text": [
      "c:\\users\\dudns_pk7j4bd\\appdata\\local\\programs\\python\\python37\\lib\\site-packages\\ipykernel_launcher.py:1: SettingWithCopyWarning: \n",
      "A value is trying to be set on a copy of a slice from a DataFrame.\n",
      "Try using .loc[row_indexer,col_indexer] = value instead\n",
      "\n",
      "See the caveats in the documentation: http://pandas.pydata.org/pandas-docs/stable/indexing.html#indexing-view-versus-copy\n",
      "  \"\"\"Entry point for launching an IPython kernel.\n"
     ]
    },
    {
     "data": {
      "text/html": [
       "<div>\n",
       "<style scoped>\n",
       "    .dataframe tbody tr th:only-of-type {\n",
       "        vertical-align: middle;\n",
       "    }\n",
       "\n",
       "    .dataframe tbody tr th {\n",
       "        vertical-align: top;\n",
       "    }\n",
       "\n",
       "    .dataframe thead th {\n",
       "        text-align: right;\n",
       "    }\n",
       "</style>\n",
       "<table border=\"1\" class=\"dataframe\">\n",
       "  <thead>\n",
       "    <tr style=\"text-align: right;\">\n",
       "      <th></th>\n",
       "      <th>desk</th>\n",
       "      <th>own room</th>\n",
       "      <th>study place</th>\n",
       "      <th>computer</th>\n",
       "      <th>software</th>\n",
       "      <th>Internet</th>\n",
       "      <th>literature</th>\n",
       "      <th>poetry</th>\n",
       "      <th>art</th>\n",
       "      <th>textbooks</th>\n",
       "      <th>technical reference books</th>\n",
       "      <th>dictionary</th>\n",
       "      <th>dishwasher</th>\n",
       "      <th>DVD</th>\n",
       "      <th>score</th>\n",
       "    </tr>\n",
       "  </thead>\n",
       "  <tbody>\n",
       "    <tr>\n",
       "      <th>0</th>\n",
       "      <td>Yes</td>\n",
       "      <td>No</td>\n",
       "      <td>Yes</td>\n",
       "      <td>No</td>\n",
       "      <td>No</td>\n",
       "      <td>No</td>\n",
       "      <td>No</td>\n",
       "      <td>Yes</td>\n",
       "      <td>No</td>\n",
       "      <td>Yes</td>\n",
       "      <td>No</td>\n",
       "      <td>Yes</td>\n",
       "      <td>No</td>\n",
       "      <td>Yes</td>\n",
       "      <td>333.038020</td>\n",
       "    </tr>\n",
       "    <tr>\n",
       "      <th>1</th>\n",
       "      <td>Yes</td>\n",
       "      <td>Yes</td>\n",
       "      <td>Yes</td>\n",
       "      <td>Yes</td>\n",
       "      <td>Yes</td>\n",
       "      <td>Yes</td>\n",
       "      <td>Yes</td>\n",
       "      <td>Yes</td>\n",
       "      <td>Yes</td>\n",
       "      <td>Yes</td>\n",
       "      <td>Yes</td>\n",
       "      <td>Yes</td>\n",
       "      <td>Yes</td>\n",
       "      <td>Yes</td>\n",
       "      <td>444.458700</td>\n",
       "    </tr>\n",
       "    <tr>\n",
       "      <th>2</th>\n",
       "      <td>Yes</td>\n",
       "      <td>Yes</td>\n",
       "      <td>Yes</td>\n",
       "      <td>Yes</td>\n",
       "      <td>No</td>\n",
       "      <td>Yes</td>\n",
       "      <td>Yes</td>\n",
       "      <td>Yes</td>\n",
       "      <td>Yes</td>\n",
       "      <td>Yes</td>\n",
       "      <td>No</td>\n",
       "      <td>Yes</td>\n",
       "      <td>No</td>\n",
       "      <td>Yes</td>\n",
       "      <td>465.776413</td>\n",
       "    </tr>\n",
       "    <tr>\n",
       "      <th>3</th>\n",
       "      <td>Yes</td>\n",
       "      <td>Yes</td>\n",
       "      <td>Yes</td>\n",
       "      <td>Yes</td>\n",
       "      <td>Yes</td>\n",
       "      <td>Yes</td>\n",
       "      <td>Yes</td>\n",
       "      <td>Yes</td>\n",
       "      <td>Yes</td>\n",
       "      <td>Yes</td>\n",
       "      <td>No</td>\n",
       "      <td>Yes</td>\n",
       "      <td>Yes</td>\n",
       "      <td>No</td>\n",
       "      <td>460.296973</td>\n",
       "    </tr>\n",
       "    <tr>\n",
       "      <th>4</th>\n",
       "      <td>Yes</td>\n",
       "      <td>Yes</td>\n",
       "      <td>No</td>\n",
       "      <td>Yes</td>\n",
       "      <td>Yes</td>\n",
       "      <td>Yes</td>\n",
       "      <td>Yes</td>\n",
       "      <td>Yes</td>\n",
       "      <td>Yes</td>\n",
       "      <td>Yes</td>\n",
       "      <td>No</td>\n",
       "      <td>Yes</td>\n",
       "      <td>Yes</td>\n",
       "      <td>Yes</td>\n",
       "      <td>336.223953</td>\n",
       "    </tr>\n",
       "  </tbody>\n",
       "</table>\n",
       "</div>"
      ],
      "text/plain": [
       "  desk own room study place computer software Internet literature poetry  art  \\\n",
       "0  Yes       No         Yes       No       No       No         No    Yes   No   \n",
       "1  Yes      Yes         Yes      Yes      Yes      Yes        Yes    Yes  Yes   \n",
       "2  Yes      Yes         Yes      Yes       No      Yes        Yes    Yes  Yes   \n",
       "3  Yes      Yes         Yes      Yes      Yes      Yes        Yes    Yes  Yes   \n",
       "4  Yes      Yes          No      Yes      Yes      Yes        Yes    Yes  Yes   \n",
       "\n",
       "  textbooks technical reference books dictionary dishwasher  DVD       score  \n",
       "0       Yes                        No        Yes         No  Yes  333.038020  \n",
       "1       Yes                       Yes        Yes        Yes  Yes  444.458700  \n",
       "2       Yes                        No        Yes         No  Yes  465.776413  \n",
       "3       Yes                        No        Yes        Yes   No  460.296973  \n",
       "4       Yes                        No        Yes        Yes  Yes  336.223953  "
      ]
     },
     "execution_count": 102,
     "metadata": {},
     "output_type": "execute_result"
    }
   ],
   "source": [
    "score_poss['score'] = score_birth['score']\n",
    "score_poss.head()"
   ]
  },
  {
   "cell_type": "code",
   "execution_count": 111,
   "metadata": {
    "slideshow": {
     "slide_type": "skip"
    }
   },
   "outputs": [],
   "source": [
    "# get the number of \"Yes\" in each row \n",
    "poss_num =[]\n",
    "for _ in range(len(score_poss)):\n",
    "    poss_num.append((score_poss.iloc[_]=='Yes').sum())"
   ]
  },
  {
   "cell_type": "code",
   "execution_count": 112,
   "metadata": {
    "slideshow": {
     "slide_type": "skip"
    }
   },
   "outputs": [
    {
     "name": "stderr",
     "output_type": "stream",
     "text": [
      "c:\\users\\dudns_pk7j4bd\\appdata\\local\\programs\\python\\python37\\lib\\site-packages\\ipykernel_launcher.py:1: SettingWithCopyWarning: \n",
      "A value is trying to be set on a copy of a slice from a DataFrame.\n",
      "Try using .loc[row_indexer,col_indexer] = value instead\n",
      "\n",
      "See the caveats in the documentation: http://pandas.pydata.org/pandas-docs/stable/indexing.html#indexing-view-versus-copy\n",
      "  \"\"\"Entry point for launching an IPython kernel.\n"
     ]
    },
    {
     "data": {
      "text/html": [
       "<div>\n",
       "<style scoped>\n",
       "    .dataframe tbody tr th:only-of-type {\n",
       "        vertical-align: middle;\n",
       "    }\n",
       "\n",
       "    .dataframe tbody tr th {\n",
       "        vertical-align: top;\n",
       "    }\n",
       "\n",
       "    .dataframe thead th {\n",
       "        text-align: right;\n",
       "    }\n",
       "</style>\n",
       "<table border=\"1\" class=\"dataframe\">\n",
       "  <thead>\n",
       "    <tr style=\"text-align: right;\">\n",
       "      <th></th>\n",
       "      <th>desk</th>\n",
       "      <th>own room</th>\n",
       "      <th>study place</th>\n",
       "      <th>computer</th>\n",
       "      <th>software</th>\n",
       "      <th>Internet</th>\n",
       "      <th>literature</th>\n",
       "      <th>poetry</th>\n",
       "      <th>art</th>\n",
       "      <th>textbooks</th>\n",
       "      <th>technical reference books</th>\n",
       "      <th>dictionary</th>\n",
       "      <th>dishwasher</th>\n",
       "      <th>DVD</th>\n",
       "      <th>score</th>\n",
       "      <th>poss_num</th>\n",
       "    </tr>\n",
       "  </thead>\n",
       "  <tbody>\n",
       "    <tr>\n",
       "      <th>0</th>\n",
       "      <td>Yes</td>\n",
       "      <td>No</td>\n",
       "      <td>Yes</td>\n",
       "      <td>No</td>\n",
       "      <td>No</td>\n",
       "      <td>No</td>\n",
       "      <td>No</td>\n",
       "      <td>Yes</td>\n",
       "      <td>No</td>\n",
       "      <td>Yes</td>\n",
       "      <td>No</td>\n",
       "      <td>Yes</td>\n",
       "      <td>No</td>\n",
       "      <td>Yes</td>\n",
       "      <td>333.038020</td>\n",
       "      <td>6</td>\n",
       "    </tr>\n",
       "    <tr>\n",
       "      <th>1</th>\n",
       "      <td>Yes</td>\n",
       "      <td>Yes</td>\n",
       "      <td>Yes</td>\n",
       "      <td>Yes</td>\n",
       "      <td>Yes</td>\n",
       "      <td>Yes</td>\n",
       "      <td>Yes</td>\n",
       "      <td>Yes</td>\n",
       "      <td>Yes</td>\n",
       "      <td>Yes</td>\n",
       "      <td>Yes</td>\n",
       "      <td>Yes</td>\n",
       "      <td>Yes</td>\n",
       "      <td>Yes</td>\n",
       "      <td>444.458700</td>\n",
       "      <td>14</td>\n",
       "    </tr>\n",
       "    <tr>\n",
       "      <th>2</th>\n",
       "      <td>Yes</td>\n",
       "      <td>Yes</td>\n",
       "      <td>Yes</td>\n",
       "      <td>Yes</td>\n",
       "      <td>No</td>\n",
       "      <td>Yes</td>\n",
       "      <td>Yes</td>\n",
       "      <td>Yes</td>\n",
       "      <td>Yes</td>\n",
       "      <td>Yes</td>\n",
       "      <td>No</td>\n",
       "      <td>Yes</td>\n",
       "      <td>No</td>\n",
       "      <td>Yes</td>\n",
       "      <td>465.776413</td>\n",
       "      <td>11</td>\n",
       "    </tr>\n",
       "    <tr>\n",
       "      <th>3</th>\n",
       "      <td>Yes</td>\n",
       "      <td>Yes</td>\n",
       "      <td>Yes</td>\n",
       "      <td>Yes</td>\n",
       "      <td>Yes</td>\n",
       "      <td>Yes</td>\n",
       "      <td>Yes</td>\n",
       "      <td>Yes</td>\n",
       "      <td>Yes</td>\n",
       "      <td>Yes</td>\n",
       "      <td>No</td>\n",
       "      <td>Yes</td>\n",
       "      <td>Yes</td>\n",
       "      <td>No</td>\n",
       "      <td>460.296973</td>\n",
       "      <td>12</td>\n",
       "    </tr>\n",
       "    <tr>\n",
       "      <th>4</th>\n",
       "      <td>Yes</td>\n",
       "      <td>Yes</td>\n",
       "      <td>No</td>\n",
       "      <td>Yes</td>\n",
       "      <td>Yes</td>\n",
       "      <td>Yes</td>\n",
       "      <td>Yes</td>\n",
       "      <td>Yes</td>\n",
       "      <td>Yes</td>\n",
       "      <td>Yes</td>\n",
       "      <td>No</td>\n",
       "      <td>Yes</td>\n",
       "      <td>Yes</td>\n",
       "      <td>Yes</td>\n",
       "      <td>336.223953</td>\n",
       "      <td>12</td>\n",
       "    </tr>\n",
       "  </tbody>\n",
       "</table>\n",
       "</div>"
      ],
      "text/plain": [
       "  desk own room study place computer software Internet literature poetry  art  \\\n",
       "0  Yes       No         Yes       No       No       No         No    Yes   No   \n",
       "1  Yes      Yes         Yes      Yes      Yes      Yes        Yes    Yes  Yes   \n",
       "2  Yes      Yes         Yes      Yes       No      Yes        Yes    Yes  Yes   \n",
       "3  Yes      Yes         Yes      Yes      Yes      Yes        Yes    Yes  Yes   \n",
       "4  Yes      Yes          No      Yes      Yes      Yes        Yes    Yes  Yes   \n",
       "\n",
       "  textbooks technical reference books dictionary dishwasher  DVD       score  \\\n",
       "0       Yes                        No        Yes         No  Yes  333.038020   \n",
       "1       Yes                       Yes        Yes        Yes  Yes  444.458700   \n",
       "2       Yes                        No        Yes         No  Yes  465.776413   \n",
       "3       Yes                        No        Yes        Yes   No  460.296973   \n",
       "4       Yes                        No        Yes        Yes  Yes  336.223953   \n",
       "\n",
       "   poss_num  \n",
       "0         6  \n",
       "1        14  \n",
       "2        11  \n",
       "3        12  \n",
       "4        12  "
      ]
     },
     "execution_count": 112,
     "metadata": {},
     "output_type": "execute_result"
    }
   ],
   "source": [
    "# create new column and store poss_num data \n",
    "score_poss['poss_num']=poss_num\n",
    "score_poss.head()"
   ]
  },
  {
   "cell_type": "code",
   "execution_count": 114,
   "metadata": {
    "slideshow": {
     "slide_type": "skip"
    }
   },
   "outputs": [
    {
     "data": {
      "text/html": [
       "<div>\n",
       "<style scoped>\n",
       "    .dataframe tbody tr th:only-of-type {\n",
       "        vertical-align: middle;\n",
       "    }\n",
       "\n",
       "    .dataframe tbody tr th {\n",
       "        vertical-align: top;\n",
       "    }\n",
       "\n",
       "    .dataframe thead th {\n",
       "        text-align: right;\n",
       "    }\n",
       "</style>\n",
       "<table border=\"1\" class=\"dataframe\">\n",
       "  <thead>\n",
       "    <tr style=\"text-align: right;\">\n",
       "      <th></th>\n",
       "      <th>score</th>\n",
       "      <th>poss_num</th>\n",
       "    </tr>\n",
       "  </thead>\n",
       "  <tbody>\n",
       "    <tr>\n",
       "      <th>count</th>\n",
       "      <td>485374.000000</td>\n",
       "      <td>485490.000000</td>\n",
       "    </tr>\n",
       "    <tr>\n",
       "      <th>mean</th>\n",
       "      <td>472.503256</td>\n",
       "      <td>9.858059</td>\n",
       "    </tr>\n",
       "    <tr>\n",
       "      <th>std</th>\n",
       "      <td>96.038776</td>\n",
       "      <td>3.024273</td>\n",
       "    </tr>\n",
       "    <tr>\n",
       "      <th>min</th>\n",
       "      <td>77.114593</td>\n",
       "      <td>0.000000</td>\n",
       "    </tr>\n",
       "    <tr>\n",
       "      <th>25%</th>\n",
       "      <td>404.011398</td>\n",
       "      <td>8.000000</td>\n",
       "    </tr>\n",
       "    <tr>\n",
       "      <th>50%</th>\n",
       "      <td>472.065883</td>\n",
       "      <td>10.000000</td>\n",
       "    </tr>\n",
       "    <tr>\n",
       "      <th>75%</th>\n",
       "      <td>541.475883</td>\n",
       "      <td>12.000000</td>\n",
       "    </tr>\n",
       "    <tr>\n",
       "      <th>max</th>\n",
       "      <td>826.592027</td>\n",
       "      <td>14.000000</td>\n",
       "    </tr>\n",
       "  </tbody>\n",
       "</table>\n",
       "</div>"
      ],
      "text/plain": [
       "               score       poss_num\n",
       "count  485374.000000  485490.000000\n",
       "mean      472.503256       9.858059\n",
       "std        96.038776       3.024273\n",
       "min        77.114593       0.000000\n",
       "25%       404.011398       8.000000\n",
       "50%       472.065883      10.000000\n",
       "75%       541.475883      12.000000\n",
       "max       826.592027      14.000000"
      ]
     },
     "execution_count": 114,
     "metadata": {},
     "output_type": "execute_result"
    }
   ],
   "source": [
    "score_poss.describe()"
   ]
  },
  {
   "cell_type": "code",
   "execution_count": 115,
   "metadata": {
    "slideshow": {
     "slide_type": "skip"
    }
   },
   "outputs": [],
   "source": [
    "# set bins according to min and max values \n",
    "bins_x = np.arange(0, 14+1, 1)\n",
    "bins_y = np.arange(77, 827+50, 50)"
   ]
  },
  {
   "cell_type": "code",
   "execution_count": 117,
   "metadata": {
    "slideshow": {
     "slide_type": "slide"
    }
   },
   "outputs": [
    {
     "data": {
      "image/png": "[encoded data removed]",
      "text/plain": [
       "<Figure size 432x288 with 2 Axes>"
      ]
     },
     "metadata": {
      "needs_background": "light"
     },
     "output_type": "display_data"
    }
   ],
   "source": [
    "# check the relationship between score and number of possessions by heatmap \n",
    "plt.hist2d(data=score_poss, x='poss_num', y='score', cmin=10, cmap='viridis_r', bins=[bins_x, bins_y]);\n",
    "plt.xticks((1,2,3,4,5,6,7,8,9,10,11,12, 13, 14))\n",
    "plt.colorbar();\n",
    "plt.xlabel('Number of Possessions');\n",
    "plt.ylabel('Average Score');"
   ]
  },
  {
   "cell_type": "markdown",
   "metadata": {
    "slideshow": {
     "slide_type": "subslide"
    }
   },
   "source": [
    "#### A2. \n",
    "As number of possessions growes, so does the average score"
   ]
  },
  {
   "cell_type": "markdown",
   "metadata": {
    "slideshow": {
     "slide_type": "slide"
    }
   },
   "source": [
    "<a id='04'> </a>\n",
    "## Multivariate Exploration\n",
    "In multivariate exploration, I will look at the relationship between multi variables and use scatter plot to visualize the results. \n",
    "\n",
    "* KEYWORD : Gender, Scatter Plot"
   ]
  },
  {
   "cell_type": "markdown",
   "metadata": {
    "slideshow": {
     "slide_type": "slide"
    }
   },
   "source": [
    "### Q1. How are gender, perceived control and perseverance related?"
   ]
  },
  {
   "cell_type": "code",
   "execution_count": 53,
   "metadata": {
    "slideshow": {
     "slide_type": "skip"
    }
   },
   "outputs": [],
   "source": [
    "# create a new dataframe \n",
    "multi1=pd.DataFrame()"
   ]
  },
  {
   "cell_type": "code",
   "execution_count": 54,
   "metadata": {
    "slideshow": {
     "slide_type": "skip"
    }
   },
   "outputs": [],
   "source": [
    "# get data about gender\n",
    "multi1['gender'] = pisa2012.ST04Q01"
   ]
  },
  {
   "cell_type": "code",
   "execution_count": 55,
   "metadata": {
    "slideshow": {
     "slide_type": "skip"
    }
   },
   "outputs": [],
   "source": [
    "# list of columns related to perceived control \n",
    "control_list = ['Can Succeed with Enough Effort', 'My Choice Whether I Will Be Good', \\\n",
    "               'Could Perform Well if I Wanted']"
   ]
  },
  {
   "cell_type": "code",
   "execution_count": 56,
   "metadata": {
    "slideshow": {
     "slide_type": "skip"
    }
   },
   "outputs": [],
   "source": [
    "# get data about perceived control \n",
    "multi1[control_list] = pisa2012[['ST91Q01', 'ST91Q02', 'ST91Q05']]"
   ]
  },
  {
   "cell_type": "code",
   "execution_count": 57,
   "metadata": {
    "slideshow": {
     "slide_type": "skip"
    }
   },
   "outputs": [],
   "source": [
    "# list of columns related to perserverance\n",
    "perserv_list=['Remain interested', 'Continue to perfection','Exceed expectations']"
   ]
  },
  {
   "cell_type": "code",
   "execution_count": 58,
   "metadata": {
    "slideshow": {
     "slide_type": "skip"
    }
   },
   "outputs": [],
   "source": [
    "# get data about perserverance\n",
    "multi1[perserv_list] = pisa2012[['ST93Q04', 'ST93Q06', 'ST93Q07']]"
   ]
  },
  {
   "cell_type": "code",
   "execution_count": 59,
   "metadata": {
    "slideshow": {
     "slide_type": "skip"
    }
   },
   "outputs": [
    {
     "data": {
      "text/html": [
       "<div>\n",
       "<style scoped>\n",
       "    .dataframe tbody tr th:only-of-type {\n",
       "        vertical-align: middle;\n",
       "    }\n",
       "\n",
       "    .dataframe tbody tr th {\n",
       "        vertical-align: top;\n",
       "    }\n",
       "\n",
       "    .dataframe thead th {\n",
       "        text-align: right;\n",
       "    }\n",
       "</style>\n",
       "<table border=\"1\" class=\"dataframe\">\n",
       "  <thead>\n",
       "    <tr style=\"text-align: right;\">\n",
       "      <th></th>\n",
       "      <th>gender</th>\n",
       "      <th>Can Succeed with Enough Effort</th>\n",
       "      <th>My Choice Whether I Will Be Good</th>\n",
       "      <th>Could Perform Well if I Wanted</th>\n",
       "      <th>Remain interested</th>\n",
       "      <th>Continue to perfection</th>\n",
       "      <th>Exceed expectations</th>\n",
       "    </tr>\n",
       "  </thead>\n",
       "  <tbody>\n",
       "    <tr>\n",
       "      <th>0</th>\n",
       "      <td>Female</td>\n",
       "      <td>Strongly agree</td>\n",
       "      <td>Strongly agree</td>\n",
       "      <td>Disagree</td>\n",
       "      <td>Very much like me</td>\n",
       "      <td>Somewhat like me</td>\n",
       "      <td>Very much like me</td>\n",
       "    </tr>\n",
       "    <tr>\n",
       "      <th>1</th>\n",
       "      <td>Female</td>\n",
       "      <td>NaN</td>\n",
       "      <td>NaN</td>\n",
       "      <td>NaN</td>\n",
       "      <td>Mostly like me</td>\n",
       "      <td>Somewhat like me</td>\n",
       "      <td>Very much like me</td>\n",
       "    </tr>\n",
       "    <tr>\n",
       "      <th>2</th>\n",
       "      <td>Female</td>\n",
       "      <td>NaN</td>\n",
       "      <td>NaN</td>\n",
       "      <td>NaN</td>\n",
       "      <td>Very much like me</td>\n",
       "      <td>Very much like me</td>\n",
       "      <td>Somewhat like me</td>\n",
       "    </tr>\n",
       "    <tr>\n",
       "      <th>3</th>\n",
       "      <td>Female</td>\n",
       "      <td>NaN</td>\n",
       "      <td>NaN</td>\n",
       "      <td>NaN</td>\n",
       "      <td>NaN</td>\n",
       "      <td>NaN</td>\n",
       "      <td>NaN</td>\n",
       "    </tr>\n",
       "    <tr>\n",
       "      <th>4</th>\n",
       "      <td>Female</td>\n",
       "      <td>Agree</td>\n",
       "      <td>Strongly agree</td>\n",
       "      <td>Strongly agree</td>\n",
       "      <td>Very much like me</td>\n",
       "      <td>Very much like me</td>\n",
       "      <td>Very much like me</td>\n",
       "    </tr>\n",
       "  </tbody>\n",
       "</table>\n",
       "</div>"
      ],
      "text/plain": [
       "   gender Can Succeed with Enough Effort My Choice Whether I Will Be Good  \\\n",
       "0  Female                 Strongly agree                   Strongly agree   \n",
       "1  Female                            NaN                              NaN   \n",
       "2  Female                            NaN                              NaN   \n",
       "3  Female                            NaN                              NaN   \n",
       "4  Female                          Agree                   Strongly agree   \n",
       "\n",
       "  Could Perform Well if I Wanted  Remain interested Continue to perfection  \\\n",
       "0                       Disagree  Very much like me       Somewhat like me   \n",
       "1                            NaN     Mostly like me       Somewhat like me   \n",
       "2                            NaN  Very much like me      Very much like me   \n",
       "3                            NaN                NaN                    NaN   \n",
       "4                 Strongly agree  Very much like me      Very much like me   \n",
       "\n",
       "  Exceed expectations  \n",
       "0   Very much like me  \n",
       "1   Very much like me  \n",
       "2    Somewhat like me  \n",
       "3                 NaN  \n",
       "4   Very much like me  "
      ]
     },
     "execution_count": 59,
     "metadata": {},
     "output_type": "execute_result"
    }
   ],
   "source": [
    "multi1.head()"
   ]
  },
  {
   "cell_type": "code",
   "execution_count": 60,
   "metadata": {
    "slideshow": {
     "slide_type": "skip"
    }
   },
   "outputs": [
    {
     "data": {
      "text/html": [
       "<div>\n",
       "<style scoped>\n",
       "    .dataframe tbody tr th:only-of-type {\n",
       "        vertical-align: middle;\n",
       "    }\n",
       "\n",
       "    .dataframe tbody tr th {\n",
       "        vertical-align: top;\n",
       "    }\n",
       "\n",
       "    .dataframe thead th {\n",
       "        text-align: right;\n",
       "    }\n",
       "</style>\n",
       "<table border=\"1\" class=\"dataframe\">\n",
       "  <thead>\n",
       "    <tr style=\"text-align: right;\">\n",
       "      <th></th>\n",
       "      <th>gender</th>\n",
       "      <th>Can Succeed with Enough Effort</th>\n",
       "      <th>My Choice Whether I Will Be Good</th>\n",
       "      <th>Could Perform Well if I Wanted</th>\n",
       "      <th>Remain interested</th>\n",
       "      <th>Continue to perfection</th>\n",
       "      <th>Exceed expectations</th>\n",
       "    </tr>\n",
       "  </thead>\n",
       "  <tbody>\n",
       "    <tr>\n",
       "      <th>0</th>\n",
       "      <td>Female</td>\n",
       "      <td>Strongly agree</td>\n",
       "      <td>Strongly agree</td>\n",
       "      <td>Disagree</td>\n",
       "      <td>Very much like me</td>\n",
       "      <td>Somewhat like me</td>\n",
       "      <td>Very much like me</td>\n",
       "    </tr>\n",
       "    <tr>\n",
       "      <th>4</th>\n",
       "      <td>Female</td>\n",
       "      <td>Agree</td>\n",
       "      <td>Strongly agree</td>\n",
       "      <td>Strongly agree</td>\n",
       "      <td>Very much like me</td>\n",
       "      <td>Very much like me</td>\n",
       "      <td>Very much like me</td>\n",
       "    </tr>\n",
       "    <tr>\n",
       "      <th>7</th>\n",
       "      <td>Male</td>\n",
       "      <td>Strongly agree</td>\n",
       "      <td>Agree</td>\n",
       "      <td>Strongly agree</td>\n",
       "      <td>Very much like me</td>\n",
       "      <td>Mostly like me</td>\n",
       "      <td>Somewhat like me</td>\n",
       "    </tr>\n",
       "    <tr>\n",
       "      <th>8</th>\n",
       "      <td>Female</td>\n",
       "      <td>Strongly agree</td>\n",
       "      <td>Strongly agree</td>\n",
       "      <td>Strongly agree</td>\n",
       "      <td>Somewhat like me</td>\n",
       "      <td>Somewhat like me</td>\n",
       "      <td>Somewhat like me</td>\n",
       "    </tr>\n",
       "    <tr>\n",
       "      <th>12</th>\n",
       "      <td>Female</td>\n",
       "      <td>Strongly agree</td>\n",
       "      <td>Strongly agree</td>\n",
       "      <td>Strongly agree</td>\n",
       "      <td>Mostly like me</td>\n",
       "      <td>Very much like me</td>\n",
       "      <td>Very much like me</td>\n",
       "    </tr>\n",
       "  </tbody>\n",
       "</table>\n",
       "</div>"
      ],
      "text/plain": [
       "    gender Can Succeed with Enough Effort My Choice Whether I Will Be Good  \\\n",
       "0   Female                 Strongly agree                   Strongly agree   \n",
       "4   Female                          Agree                   Strongly agree   \n",
       "7     Male                 Strongly agree                            Agree   \n",
       "8   Female                 Strongly agree                   Strongly agree   \n",
       "12  Female                 Strongly agree                   Strongly agree   \n",
       "\n",
       "   Could Perform Well if I Wanted  Remain interested Continue to perfection  \\\n",
       "0                        Disagree  Very much like me       Somewhat like me   \n",
       "4                  Strongly agree  Very much like me      Very much like me   \n",
       "7                  Strongly agree  Very much like me         Mostly like me   \n",
       "8                  Strongly agree   Somewhat like me       Somewhat like me   \n",
       "12                 Strongly agree     Mostly like me      Very much like me   \n",
       "\n",
       "   Exceed expectations  \n",
       "0    Very much like me  \n",
       "4    Very much like me  \n",
       "7     Somewhat like me  \n",
       "8     Somewhat like me  \n",
       "12   Very much like me  "
      ]
     },
     "execution_count": 60,
     "metadata": {},
     "output_type": "execute_result"
    }
   ],
   "source": [
    "# drop rows that have missing values \n",
    "multi1 = multi1.dropna()\n",
    "multi1.head()"
   ]
  },
  {
   "cell_type": "code",
   "execution_count": 61,
   "metadata": {
    "slideshow": {
     "slide_type": "skip"
    }
   },
   "outputs": [],
   "source": [
    "# quantify categorical data\n",
    "multi1[control_list]=multi1[control_list].replace('Strongly agree', 3)\n",
    "multi1[control_list]=multi1[control_list].replace('Agree', 2)\n",
    "multi1[control_list]=multi1[control_list].replace('Disagree', 1)\n",
    "multi1[control_list]=multi1[control_list].replace('Strongly disagree', 0)"
   ]
  },
  {
   "cell_type": "code",
   "execution_count": 62,
   "metadata": {
    "slideshow": {
     "slide_type": "skip"
    }
   },
   "outputs": [
    {
     "data": {
      "text/html": [
       "<div>\n",
       "<style scoped>\n",
       "    .dataframe tbody tr th:only-of-type {\n",
       "        vertical-align: middle;\n",
       "    }\n",
       "\n",
       "    .dataframe tbody tr th {\n",
       "        vertical-align: top;\n",
       "    }\n",
       "\n",
       "    .dataframe thead th {\n",
       "        text-align: right;\n",
       "    }\n",
       "</style>\n",
       "<table border=\"1\" class=\"dataframe\">\n",
       "  <thead>\n",
       "    <tr style=\"text-align: right;\">\n",
       "      <th></th>\n",
       "      <th>gender</th>\n",
       "      <th>Can Succeed with Enough Effort</th>\n",
       "      <th>My Choice Whether I Will Be Good</th>\n",
       "      <th>Could Perform Well if I Wanted</th>\n",
       "      <th>Remain interested</th>\n",
       "      <th>Continue to perfection</th>\n",
       "      <th>Exceed expectations</th>\n",
       "    </tr>\n",
       "  </thead>\n",
       "  <tbody>\n",
       "    <tr>\n",
       "      <th>0</th>\n",
       "      <td>Female</td>\n",
       "      <td>3</td>\n",
       "      <td>3</td>\n",
       "      <td>1</td>\n",
       "      <td>Very much like me</td>\n",
       "      <td>Somewhat like me</td>\n",
       "      <td>Very much like me</td>\n",
       "    </tr>\n",
       "    <tr>\n",
       "      <th>4</th>\n",
       "      <td>Female</td>\n",
       "      <td>2</td>\n",
       "      <td>3</td>\n",
       "      <td>3</td>\n",
       "      <td>Very much like me</td>\n",
       "      <td>Very much like me</td>\n",
       "      <td>Very much like me</td>\n",
       "    </tr>\n",
       "    <tr>\n",
       "      <th>7</th>\n",
       "      <td>Male</td>\n",
       "      <td>3</td>\n",
       "      <td>2</td>\n",
       "      <td>3</td>\n",
       "      <td>Very much like me</td>\n",
       "      <td>Mostly like me</td>\n",
       "      <td>Somewhat like me</td>\n",
       "    </tr>\n",
       "    <tr>\n",
       "      <th>8</th>\n",
       "      <td>Female</td>\n",
       "      <td>3</td>\n",
       "      <td>3</td>\n",
       "      <td>3</td>\n",
       "      <td>Somewhat like me</td>\n",
       "      <td>Somewhat like me</td>\n",
       "      <td>Somewhat like me</td>\n",
       "    </tr>\n",
       "    <tr>\n",
       "      <th>12</th>\n",
       "      <td>Female</td>\n",
       "      <td>3</td>\n",
       "      <td>3</td>\n",
       "      <td>3</td>\n",
       "      <td>Mostly like me</td>\n",
       "      <td>Very much like me</td>\n",
       "      <td>Very much like me</td>\n",
       "    </tr>\n",
       "  </tbody>\n",
       "</table>\n",
       "</div>"
      ],
      "text/plain": [
       "    gender  Can Succeed with Enough Effort  My Choice Whether I Will Be Good  \\\n",
       "0   Female                               3                                 3   \n",
       "4   Female                               2                                 3   \n",
       "7     Male                               3                                 2   \n",
       "8   Female                               3                                 3   \n",
       "12  Female                               3                                 3   \n",
       "\n",
       "    Could Perform Well if I Wanted  Remain interested Continue to perfection  \\\n",
       "0                                1  Very much like me       Somewhat like me   \n",
       "4                                3  Very much like me      Very much like me   \n",
       "7                                3  Very much like me         Mostly like me   \n",
       "8                                3   Somewhat like me       Somewhat like me   \n",
       "12                               3     Mostly like me      Very much like me   \n",
       "\n",
       "   Exceed expectations  \n",
       "0    Very much like me  \n",
       "4    Very much like me  \n",
       "7     Somewhat like me  \n",
       "8     Somewhat like me  \n",
       "12   Very much like me  "
      ]
     },
     "execution_count": 62,
     "metadata": {},
     "output_type": "execute_result"
    }
   ],
   "source": [
    "multi1.head()"
   ]
  },
  {
   "cell_type": "code",
   "execution_count": 63,
   "metadata": {
    "slideshow": {
     "slide_type": "skip"
    }
   },
   "outputs": [],
   "source": [
    "# quantify categorical data\n",
    "multi1[perserv_list] = multi1[perserv_list].replace('Very much like me', 4)\n",
    "multi1[perserv_list] = multi1[perserv_list].replace('Mostly like me', 3)\n",
    "multi1[perserv_list] = multi1[perserv_list].replace('Somewhat like me', 2)\n",
    "multi1[perserv_list] = multi1[perserv_list].replace('Not much like me', 1)\n",
    "multi1[perserv_list] = multi1[perserv_list].replace('Not at all like me', 0)"
   ]
  },
  {
   "cell_type": "code",
   "execution_count": 64,
   "metadata": {
    "slideshow": {
     "slide_type": "skip"
    }
   },
   "outputs": [
    {
     "data": {
      "text/html": [
       "<div>\n",
       "<style scoped>\n",
       "    .dataframe tbody tr th:only-of-type {\n",
       "        vertical-align: middle;\n",
       "    }\n",
       "\n",
       "    .dataframe tbody tr th {\n",
       "        vertical-align: top;\n",
       "    }\n",
       "\n",
       "    .dataframe thead th {\n",
       "        text-align: right;\n",
       "    }\n",
       "</style>\n",
       "<table border=\"1\" class=\"dataframe\">\n",
       "  <thead>\n",
       "    <tr style=\"text-align: right;\">\n",
       "      <th></th>\n",
       "      <th>gender</th>\n",
       "      <th>Can Succeed with Enough Effort</th>\n",
       "      <th>My Choice Whether I Will Be Good</th>\n",
       "      <th>Could Perform Well if I Wanted</th>\n",
       "      <th>Remain interested</th>\n",
       "      <th>Continue to perfection</th>\n",
       "      <th>Exceed expectations</th>\n",
       "    </tr>\n",
       "  </thead>\n",
       "  <tbody>\n",
       "    <tr>\n",
       "      <th>0</th>\n",
       "      <td>Female</td>\n",
       "      <td>3</td>\n",
       "      <td>3</td>\n",
       "      <td>1</td>\n",
       "      <td>4</td>\n",
       "      <td>2</td>\n",
       "      <td>4</td>\n",
       "    </tr>\n",
       "    <tr>\n",
       "      <th>4</th>\n",
       "      <td>Female</td>\n",
       "      <td>2</td>\n",
       "      <td>3</td>\n",
       "      <td>3</td>\n",
       "      <td>4</td>\n",
       "      <td>4</td>\n",
       "      <td>4</td>\n",
       "    </tr>\n",
       "    <tr>\n",
       "      <th>7</th>\n",
       "      <td>Male</td>\n",
       "      <td>3</td>\n",
       "      <td>2</td>\n",
       "      <td>3</td>\n",
       "      <td>4</td>\n",
       "      <td>3</td>\n",
       "      <td>2</td>\n",
       "    </tr>\n",
       "    <tr>\n",
       "      <th>8</th>\n",
       "      <td>Female</td>\n",
       "      <td>3</td>\n",
       "      <td>3</td>\n",
       "      <td>3</td>\n",
       "      <td>2</td>\n",
       "      <td>2</td>\n",
       "      <td>2</td>\n",
       "    </tr>\n",
       "    <tr>\n",
       "      <th>12</th>\n",
       "      <td>Female</td>\n",
       "      <td>3</td>\n",
       "      <td>3</td>\n",
       "      <td>3</td>\n",
       "      <td>3</td>\n",
       "      <td>4</td>\n",
       "      <td>4</td>\n",
       "    </tr>\n",
       "  </tbody>\n",
       "</table>\n",
       "</div>"
      ],
      "text/plain": [
       "    gender  Can Succeed with Enough Effort  My Choice Whether I Will Be Good  \\\n",
       "0   Female                               3                                 3   \n",
       "4   Female                               2                                 3   \n",
       "7     Male                               3                                 2   \n",
       "8   Female                               3                                 3   \n",
       "12  Female                               3                                 3   \n",
       "\n",
       "    Could Perform Well if I Wanted  Remain interested  Continue to perfection  \\\n",
       "0                                1                  4                       2   \n",
       "4                                3                  4                       4   \n",
       "7                                3                  4                       3   \n",
       "8                                3                  2                       2   \n",
       "12                               3                  3                       4   \n",
       "\n",
       "    Exceed expectations  \n",
       "0                     4  \n",
       "4                     4  \n",
       "7                     2  \n",
       "8                     2  \n",
       "12                    4  "
      ]
     },
     "execution_count": 64,
     "metadata": {},
     "output_type": "execute_result"
    }
   ],
   "source": [
    "multi1.head()"
   ]
  },
  {
   "cell_type": "code",
   "execution_count": 65,
   "metadata": {
    "slideshow": {
     "slide_type": "skip"
    }
   },
   "outputs": [
    {
     "data": {
      "text/html": [
       "<div>\n",
       "<style scoped>\n",
       "    .dataframe tbody tr th:only-of-type {\n",
       "        vertical-align: middle;\n",
       "    }\n",
       "\n",
       "    .dataframe tbody tr th {\n",
       "        vertical-align: top;\n",
       "    }\n",
       "\n",
       "    .dataframe thead th {\n",
       "        text-align: right;\n",
       "    }\n",
       "</style>\n",
       "<table border=\"1\" class=\"dataframe\">\n",
       "  <thead>\n",
       "    <tr style=\"text-align: right;\">\n",
       "      <th></th>\n",
       "      <th>Can Succeed with Enough Effort</th>\n",
       "      <th>My Choice Whether I Will Be Good</th>\n",
       "      <th>Could Perform Well if I Wanted</th>\n",
       "      <th>Remain interested</th>\n",
       "      <th>Continue to perfection</th>\n",
       "      <th>Exceed expectations</th>\n",
       "    </tr>\n",
       "  </thead>\n",
       "  <tbody>\n",
       "    <tr>\n",
       "      <th>count</th>\n",
       "      <td>151413.000000</td>\n",
       "      <td>151413.000000</td>\n",
       "      <td>151413.000000</td>\n",
       "      <td>151413.000000</td>\n",
       "      <td>151413.000000</td>\n",
       "      <td>151413.000000</td>\n",
       "    </tr>\n",
       "    <tr>\n",
       "      <th>mean</th>\n",
       "      <td>2.532893</td>\n",
       "      <td>2.254760</td>\n",
       "      <td>2.318473</td>\n",
       "      <td>2.546234</td>\n",
       "      <td>2.455674</td>\n",
       "      <td>2.294559</td>\n",
       "    </tr>\n",
       "    <tr>\n",
       "      <th>std</th>\n",
       "      <td>0.583182</td>\n",
       "      <td>0.751731</td>\n",
       "      <td>0.700905</td>\n",
       "      <td>1.068382</td>\n",
       "      <td>1.141698</td>\n",
       "      <td>1.162146</td>\n",
       "    </tr>\n",
       "    <tr>\n",
       "      <th>min</th>\n",
       "      <td>0.000000</td>\n",
       "      <td>0.000000</td>\n",
       "      <td>0.000000</td>\n",
       "      <td>0.000000</td>\n",
       "      <td>0.000000</td>\n",
       "      <td>0.000000</td>\n",
       "    </tr>\n",
       "    <tr>\n",
       "      <th>25%</th>\n",
       "      <td>2.000000</td>\n",
       "      <td>2.000000</td>\n",
       "      <td>2.000000</td>\n",
       "      <td>2.000000</td>\n",
       "      <td>2.000000</td>\n",
       "      <td>1.000000</td>\n",
       "    </tr>\n",
       "    <tr>\n",
       "      <th>50%</th>\n",
       "      <td>3.000000</td>\n",
       "      <td>2.000000</td>\n",
       "      <td>2.000000</td>\n",
       "      <td>3.000000</td>\n",
       "      <td>3.000000</td>\n",
       "      <td>2.000000</td>\n",
       "    </tr>\n",
       "    <tr>\n",
       "      <th>75%</th>\n",
       "      <td>3.000000</td>\n",
       "      <td>3.000000</td>\n",
       "      <td>3.000000</td>\n",
       "      <td>3.000000</td>\n",
       "      <td>3.000000</td>\n",
       "      <td>3.000000</td>\n",
       "    </tr>\n",
       "    <tr>\n",
       "      <th>max</th>\n",
       "      <td>3.000000</td>\n",
       "      <td>3.000000</td>\n",
       "      <td>3.000000</td>\n",
       "      <td>4.000000</td>\n",
       "      <td>4.000000</td>\n",
       "      <td>4.000000</td>\n",
       "    </tr>\n",
       "  </tbody>\n",
       "</table>\n",
       "</div>"
      ],
      "text/plain": [
       "       Can Succeed with Enough Effort  My Choice Whether I Will Be Good  \\\n",
       "count                   151413.000000                     151413.000000   \n",
       "mean                         2.532893                          2.254760   \n",
       "std                          0.583182                          0.751731   \n",
       "min                          0.000000                          0.000000   \n",
       "25%                          2.000000                          2.000000   \n",
       "50%                          3.000000                          2.000000   \n",
       "75%                          3.000000                          3.000000   \n",
       "max                          3.000000                          3.000000   \n",
       "\n",
       "       Could Perform Well if I Wanted  Remain interested  \\\n",
       "count                   151413.000000      151413.000000   \n",
       "mean                         2.318473           2.546234   \n",
       "std                          0.700905           1.068382   \n",
       "min                          0.000000           0.000000   \n",
       "25%                          2.000000           2.000000   \n",
       "50%                          2.000000           3.000000   \n",
       "75%                          3.000000           3.000000   \n",
       "max                          3.000000           4.000000   \n",
       "\n",
       "       Continue to perfection  Exceed expectations  \n",
       "count           151413.000000        151413.000000  \n",
       "mean                 2.455674             2.294559  \n",
       "std                  1.141698             1.162146  \n",
       "min                  0.000000             0.000000  \n",
       "25%                  2.000000             1.000000  \n",
       "50%                  3.000000             2.000000  \n",
       "75%                  3.000000             3.000000  \n",
       "max                  4.000000             4.000000  "
      ]
     },
     "execution_count": 65,
     "metadata": {},
     "output_type": "execute_result"
    }
   ],
   "source": [
    "multi1.describe()"
   ]
  },
  {
   "cell_type": "code",
   "execution_count": 67,
   "metadata": {
    "slideshow": {
     "slide_type": "skip"
    }
   },
   "outputs": [],
   "source": [
    "# get the score of perceived control in each row \n",
    "total_control=[]\n",
    "for _ in range(len(multi1)):\n",
    "    total_control.append(multi1.iloc[_][control_list].sum())"
   ]
  },
  {
   "cell_type": "code",
   "execution_count": 68,
   "metadata": {
    "slideshow": {
     "slide_type": "skip"
    }
   },
   "outputs": [],
   "source": [
    "# get the score of perserverance in each row \n",
    "total_perserv=[]\n",
    "for _ in range(len(multi1)):\n",
    "    total_perserv.append(multi1.iloc[_][perserv_list].sum())"
   ]
  },
  {
   "cell_type": "code",
   "execution_count": 69,
   "metadata": {
    "slideshow": {
     "slide_type": "skip"
    }
   },
   "outputs": [],
   "source": [
    "# create new column and store the total score data \n",
    "multi1['total_control']=total_control\n",
    "multi1['total_perserv']=total_perserv"
   ]
  },
  {
   "cell_type": "code",
   "execution_count": 70,
   "metadata": {
    "slideshow": {
     "slide_type": "skip"
    }
   },
   "outputs": [
    {
     "data": {
      "text/html": [
       "<div>\n",
       "<style scoped>\n",
       "    .dataframe tbody tr th:only-of-type {\n",
       "        vertical-align: middle;\n",
       "    }\n",
       "\n",
       "    .dataframe tbody tr th {\n",
       "        vertical-align: top;\n",
       "    }\n",
       "\n",
       "    .dataframe thead th {\n",
       "        text-align: right;\n",
       "    }\n",
       "</style>\n",
       "<table border=\"1\" class=\"dataframe\">\n",
       "  <thead>\n",
       "    <tr style=\"text-align: right;\">\n",
       "      <th></th>\n",
       "      <th>gender</th>\n",
       "      <th>Can Succeed with Enough Effort</th>\n",
       "      <th>My Choice Whether I Will Be Good</th>\n",
       "      <th>Could Perform Well if I Wanted</th>\n",
       "      <th>Remain interested</th>\n",
       "      <th>Continue to perfection</th>\n",
       "      <th>Exceed expectations</th>\n",
       "      <th>total_control</th>\n",
       "      <th>total_perserv</th>\n",
       "    </tr>\n",
       "  </thead>\n",
       "  <tbody>\n",
       "    <tr>\n",
       "      <th>0</th>\n",
       "      <td>Female</td>\n",
       "      <td>3</td>\n",
       "      <td>3</td>\n",
       "      <td>1</td>\n",
       "      <td>4</td>\n",
       "      <td>2</td>\n",
       "      <td>4</td>\n",
       "      <td>7</td>\n",
       "      <td>10</td>\n",
       "    </tr>\n",
       "    <tr>\n",
       "      <th>4</th>\n",
       "      <td>Female</td>\n",
       "      <td>2</td>\n",
       "      <td>3</td>\n",
       "      <td>3</td>\n",
       "      <td>4</td>\n",
       "      <td>4</td>\n",
       "      <td>4</td>\n",
       "      <td>8</td>\n",
       "      <td>12</td>\n",
       "    </tr>\n",
       "    <tr>\n",
       "      <th>7</th>\n",
       "      <td>Male</td>\n",
       "      <td>3</td>\n",
       "      <td>2</td>\n",
       "      <td>3</td>\n",
       "      <td>4</td>\n",
       "      <td>3</td>\n",
       "      <td>2</td>\n",
       "      <td>8</td>\n",
       "      <td>9</td>\n",
       "    </tr>\n",
       "    <tr>\n",
       "      <th>8</th>\n",
       "      <td>Female</td>\n",
       "      <td>3</td>\n",
       "      <td>3</td>\n",
       "      <td>3</td>\n",
       "      <td>2</td>\n",
       "      <td>2</td>\n",
       "      <td>2</td>\n",
       "      <td>9</td>\n",
       "      <td>6</td>\n",
       "    </tr>\n",
       "    <tr>\n",
       "      <th>12</th>\n",
       "      <td>Female</td>\n",
       "      <td>3</td>\n",
       "      <td>3</td>\n",
       "      <td>3</td>\n",
       "      <td>3</td>\n",
       "      <td>4</td>\n",
       "      <td>4</td>\n",
       "      <td>9</td>\n",
       "      <td>11</td>\n",
       "    </tr>\n",
       "  </tbody>\n",
       "</table>\n",
       "</div>"
      ],
      "text/plain": [
       "    gender  Can Succeed with Enough Effort  My Choice Whether I Will Be Good  \\\n",
       "0   Female                               3                                 3   \n",
       "4   Female                               2                                 3   \n",
       "7     Male                               3                                 2   \n",
       "8   Female                               3                                 3   \n",
       "12  Female                               3                                 3   \n",
       "\n",
       "    Could Perform Well if I Wanted  Remain interested  Continue to perfection  \\\n",
       "0                                1                  4                       2   \n",
       "4                                3                  4                       4   \n",
       "7                                3                  4                       3   \n",
       "8                                3                  2                       2   \n",
       "12                               3                  3                       4   \n",
       "\n",
       "    Exceed expectations  total_control  total_perserv  \n",
       "0                     4              7             10  \n",
       "4                     4              8             12  \n",
       "7                     2              8              9  \n",
       "8                     2              9              6  \n",
       "12                    4              9             11  "
      ]
     },
     "execution_count": 70,
     "metadata": {},
     "output_type": "execute_result"
    }
   ],
   "source": [
    "multi1.head()"
   ]
  },
  {
   "cell_type": "code",
   "execution_count": 79,
   "metadata": {
    "slideshow": {
     "slide_type": "skip"
    }
   },
   "outputs": [
    {
     "name": "stderr",
     "output_type": "stream",
     "text": [
      "c:\\users\\dudns_pk7j4bd\\appdata\\local\\programs\\python\\python37\\lib\\site-packages\\ipykernel_launcher.py:3: FutureWarning: \n",
      "Passing list-likes to .loc or [] with any missing label will raise\n",
      "KeyError in the future, you can use .reindex() as an alternative.\n",
      "\n",
      "See the documentation here:\n",
      "https://pandas.pydata.org/pandas-docs/stable/indexing.html#deprecate-loc-reindex-listlike\n",
      "  This is separate from the ipykernel package so we can avoid doing imports until\n"
     ]
    }
   ],
   "source": [
    "# random subset of 200 students to reduce overplotting\n",
    "np.random.seed(2019)\n",
    "sample = np.random.choice(multi1.shape[0], 200, replace=False)\n",
    "multi1_subset = multi1.loc[sample]"
   ]
  },
  {
   "cell_type": "code",
   "execution_count": 80,
   "metadata": {
    "slideshow": {
     "slide_type": "slide"
    }
   },
   "outputs": [
    {
     "data": {
      "image/png": "[encoded data removed]",
      "text/plain": [
       "<Figure size 432x288 with 1 Axes>"
      ]
     },
     "metadata": {
      "needs_background": "light"
     },
     "output_type": "display_data"
    }
   ],
   "source": [
    "# combine students with horizontal jitter \n",
    "ttype_markers = [['Female', 'o'], ['Male', '^']]\n",
    "for ttype, marker in ttype_markers:\n",
    "    plot_data = multi1_subset.loc[multi1_subset['gender'] ==ttype]\n",
    "    sb.regplot(data=plot_data, x='total_control', y='total_perserv', fit_reg=False, x_jitter=0.4, marker=marker,\\\n",
    "              scatter_kws={'alpha':0.7});\n",
    "\n",
    "plt.xlabel('Total Score of Perceived Control')\n",
    "plt.ylabel('Total Score of Perserverance');\n",
    "plt.legend(['Female', 'Male']);\n",
    "plt.title('Relationship between Perceived Control and Perserverance by Gender');"
   ]
  },
  {
   "cell_type": "markdown",
   "metadata": {
    "slideshow": {
     "slide_type": "subslide"
    }
   },
   "source": [
    "#### A1.\n",
    "There seems a little correlation between Perceive Control and Perserverance in case of Male students. The least three score of Perserverance all come from female students, but the highest perserverance score is also from female students. Students give higher score on Perceived Control than Perserverance."
   ]
  },
  {
   "cell_type": "markdown",
   "metadata": {
    "slideshow": {
     "slide_type": "slide"
    }
   },
   "source": [
    "### Q2. How are gender, math work ethic and truancy related?"
   ]
  },
  {
   "cell_type": "code",
   "execution_count": 81,
   "metadata": {
    "slideshow": {
     "slide_type": "skip"
    }
   },
   "outputs": [],
   "source": [
    "# create new dataframe\n",
    "multi2=pd.DataFrame()"
   ]
  },
  {
   "cell_type": "code",
   "execution_count": 82,
   "metadata": {
    "slideshow": {
     "slide_type": "skip"
    }
   },
   "outputs": [],
   "source": [
    "# get the gender data \n",
    "multi2['gender'] = pisa2012.ST04Q01"
   ]
  },
  {
   "cell_type": "code",
   "execution_count": 83,
   "metadata": {
    "slideshow": {
     "slide_type": "skip"
    }
   },
   "outputs": [],
   "source": [
    "# list of columns related to math work ethic \n",
    "ethic_list = ['Homework Completed in Time', 'Work Hard on Homework', 'Prepared for Exams',\\\n",
    "             'Study Hard for Quizzes', 'Study Until I Understand Everything', 'Pay Attention in Classes',\\\n",
    "             'Listen in Classes', 'Avoid Distractions When Studying', 'Keep Work Organized']"
   ]
  },
  {
   "cell_type": "code",
   "execution_count": 84,
   "metadata": {
    "slideshow": {
     "slide_type": "skip"
    }
   },
   "outputs": [],
   "source": [
    "# get the data about math work ethic \n",
    "multi2[ethic_list] = pisa2012[['ST46Q01', 'ST46Q02', 'ST46Q03', 'ST46Q04', 'ST46Q05', 'ST46Q06', 'ST46Q07',\\\n",
    "                 'ST46Q08', 'ST46Q09']]"
   ]
  },
  {
   "cell_type": "code",
   "execution_count": 85,
   "metadata": {
    "slideshow": {
     "slide_type": "skip"
    }
   },
   "outputs": [],
   "source": [
    "# list of columns related to truancy\n",
    "truancy_list=['Late for School', 'Skip whole school day', 'Skip classes within school day']"
   ]
  },
  {
   "cell_type": "code",
   "execution_count": 86,
   "metadata": {
    "slideshow": {
     "slide_type": "skip"
    }
   },
   "outputs": [],
   "source": [
    "# get the data about truancy\n",
    "multi2[truancy_list] =pisa2012[['ST08Q01', 'ST09Q01', 'ST115Q01']]"
   ]
  },
  {
   "cell_type": "code",
   "execution_count": 87,
   "metadata": {
    "slideshow": {
     "slide_type": "skip"
    }
   },
   "outputs": [
    {
     "data": {
      "text/html": [
       "<div>\n",
       "<style scoped>\n",
       "    .dataframe tbody tr th:only-of-type {\n",
       "        vertical-align: middle;\n",
       "    }\n",
       "\n",
       "    .dataframe tbody tr th {\n",
       "        vertical-align: top;\n",
       "    }\n",
       "\n",
       "    .dataframe thead th {\n",
       "        text-align: right;\n",
       "    }\n",
       "</style>\n",
       "<table border=\"1\" class=\"dataframe\">\n",
       "  <thead>\n",
       "    <tr style=\"text-align: right;\">\n",
       "      <th></th>\n",
       "      <th>gender</th>\n",
       "      <th>Homework Completed in Time</th>\n",
       "      <th>Work Hard on Homework</th>\n",
       "      <th>Prepared for Exams</th>\n",
       "      <th>Study Hard for Quizzes</th>\n",
       "      <th>Study Until I Understand Everything</th>\n",
       "      <th>Pay Attention in Classes</th>\n",
       "      <th>Listen in Classes</th>\n",
       "      <th>Avoid Distractions When Studying</th>\n",
       "      <th>Keep Work Organized</th>\n",
       "      <th>Late for School</th>\n",
       "      <th>Skip whole school day</th>\n",
       "      <th>Skip classes within school day</th>\n",
       "    </tr>\n",
       "  </thead>\n",
       "  <tbody>\n",
       "    <tr>\n",
       "      <th>0</th>\n",
       "      <td>Female</td>\n",
       "      <td>Agree</td>\n",
       "      <td>Agree</td>\n",
       "      <td>Agree</td>\n",
       "      <td>Agree</td>\n",
       "      <td>Agree</td>\n",
       "      <td>Agree</td>\n",
       "      <td>Agree</td>\n",
       "      <td>Agree</td>\n",
       "      <td>Agree</td>\n",
       "      <td>None</td>\n",
       "      <td>None</td>\n",
       "      <td>1.0</td>\n",
       "    </tr>\n",
       "    <tr>\n",
       "      <th>1</th>\n",
       "      <td>Female</td>\n",
       "      <td>Agree</td>\n",
       "      <td>Agree</td>\n",
       "      <td>Strongly agree</td>\n",
       "      <td>Strongly agree</td>\n",
       "      <td>Strongly agree</td>\n",
       "      <td>Agree</td>\n",
       "      <td>Agree</td>\n",
       "      <td>Disagree</td>\n",
       "      <td>Agree</td>\n",
       "      <td>One or two times</td>\n",
       "      <td>None</td>\n",
       "      <td>1.0</td>\n",
       "    </tr>\n",
       "    <tr>\n",
       "      <th>2</th>\n",
       "      <td>Female</td>\n",
       "      <td>Strongly agree</td>\n",
       "      <td>Strongly agree</td>\n",
       "      <td>Strongly agree</td>\n",
       "      <td>Strongly agree</td>\n",
       "      <td>Strongly agree</td>\n",
       "      <td>Agree</td>\n",
       "      <td>Strongly agree</td>\n",
       "      <td>Strongly agree</td>\n",
       "      <td>Strongly agree</td>\n",
       "      <td>None</td>\n",
       "      <td>None</td>\n",
       "      <td>1.0</td>\n",
       "    </tr>\n",
       "    <tr>\n",
       "      <th>3</th>\n",
       "      <td>Female</td>\n",
       "      <td>NaN</td>\n",
       "      <td>NaN</td>\n",
       "      <td>NaN</td>\n",
       "      <td>NaN</td>\n",
       "      <td>NaN</td>\n",
       "      <td>NaN</td>\n",
       "      <td>NaN</td>\n",
       "      <td>NaN</td>\n",
       "      <td>NaN</td>\n",
       "      <td>None</td>\n",
       "      <td>None</td>\n",
       "      <td>1.0</td>\n",
       "    </tr>\n",
       "    <tr>\n",
       "      <th>4</th>\n",
       "      <td>Female</td>\n",
       "      <td>Strongly agree</td>\n",
       "      <td>Strongly agree</td>\n",
       "      <td>Agree</td>\n",
       "      <td>Strongly agree</td>\n",
       "      <td>Strongly agree</td>\n",
       "      <td>Agree</td>\n",
       "      <td>Strongly agree</td>\n",
       "      <td>Strongly agree</td>\n",
       "      <td>Strongly agree</td>\n",
       "      <td>One or two times</td>\n",
       "      <td>None</td>\n",
       "      <td>2.0</td>\n",
       "    </tr>\n",
       "  </tbody>\n",
       "</table>\n",
       "</div>"
      ],
      "text/plain": [
       "   gender Homework Completed in Time Work Hard on Homework Prepared for Exams  \\\n",
       "0  Female                      Agree                 Agree              Agree   \n",
       "1  Female                      Agree                 Agree     Strongly agree   \n",
       "2  Female             Strongly agree        Strongly agree     Strongly agree   \n",
       "3  Female                        NaN                   NaN                NaN   \n",
       "4  Female             Strongly agree        Strongly agree              Agree   \n",
       "\n",
       "  Study Hard for Quizzes Study Until I Understand Everything  \\\n",
       "0                  Agree                               Agree   \n",
       "1         Strongly agree                      Strongly agree   \n",
       "2         Strongly agree                      Strongly agree   \n",
       "3                    NaN                                 NaN   \n",
       "4         Strongly agree                      Strongly agree   \n",
       "\n",
       "  Pay Attention in Classes Listen in Classes Avoid Distractions When Studying  \\\n",
       "0                    Agree             Agree                            Agree   \n",
       "1                    Agree             Agree                         Disagree   \n",
       "2                    Agree    Strongly agree                   Strongly agree   \n",
       "3                      NaN               NaN                              NaN   \n",
       "4                    Agree    Strongly agree                   Strongly agree   \n",
       "\n",
       "  Keep Work Organized     Late for School Skip whole school day  \\\n",
       "0               Agree              None                  None     \n",
       "1               Agree  One or two times                  None     \n",
       "2      Strongly agree              None                  None     \n",
       "3                 NaN              None                  None     \n",
       "4      Strongly agree  One or two times                  None     \n",
       "\n",
       "   Skip classes within school day  \n",
       "0                             1.0  \n",
       "1                             1.0  \n",
       "2                             1.0  \n",
       "3                             1.0  \n",
       "4                             2.0  "
      ]
     },
     "execution_count": 87,
     "metadata": {},
     "output_type": "execute_result"
    }
   ],
   "source": [
    "multi2.head()"
   ]
  },
  {
   "cell_type": "code",
   "execution_count": 88,
   "metadata": {
    "slideshow": {
     "slide_type": "skip"
    }
   },
   "outputs": [],
   "source": [
    "# drop rows that have missing values\n",
    "multi2=multi2.dropna()"
   ]
  },
  {
   "cell_type": "code",
   "execution_count": 89,
   "metadata": {
    "slideshow": {
     "slide_type": "skip"
    }
   },
   "outputs": [],
   "source": [
    "# quantify categorical data \n",
    "multi2[ethic_list]=multi2[ethic_list].replace('Strongly agree', 3)\n",
    "multi2[ethic_list]=multi2[ethic_list].replace('Agree', 2)\n",
    "multi2[ethic_list]=multi2[ethic_list].replace('Disagree', 1)\n",
    "multi2[ethic_list]=multi2[ethic_list].replace('Strongly disagree', 0)"
   ]
  },
  {
   "cell_type": "code",
   "execution_count": 90,
   "metadata": {
    "slideshow": {
     "slide_type": "skip"
    }
   },
   "outputs": [
    {
     "data": {
      "text/plain": [
       "{'Five or more times  ',\n",
       " 'None  ',\n",
       " 'One or two times  ',\n",
       " 'Three or four times  '}"
      ]
     },
     "execution_count": 90,
     "metadata": {},
     "output_type": "execute_result"
    }
   ],
   "source": [
    "# check the values of column\n",
    "set(multi2['Late for School'])"
   ]
  },
  {
   "cell_type": "code",
   "execution_count": 107,
   "metadata": {
    "slideshow": {
     "slide_type": "skip"
    }
   },
   "outputs": [],
   "source": [
    "# quantify categorical data \n",
    "multi2[['Late for School','Skip whole school day']]=multi2[['Late for School','Skip whole school day']].replace('None  ', 0)\n",
    "multi2[['Late for School','Skip whole school day']]=multi2[['Late for School','Skip whole school day']].replace('One or two times  ', 2)\n",
    "multi2[['Late for School','Skip whole school day']]=multi2[['Late for School','Skip whole school day']].replace('Three or four times  ', 4)\n",
    "multi2[['Late for School','Skip whole school day']]=multi2[['Late for School','Skip whole school day']].replace('Five or more times  ', 6)"
   ]
  },
  {
   "cell_type": "code",
   "execution_count": 109,
   "metadata": {
    "slideshow": {
     "slide_type": "skip"
    }
   },
   "outputs": [],
   "source": [
    "# change float data into int \n",
    "multi2[truancy_list]=multi2[truancy_list].astype('int')"
   ]
  },
  {
   "cell_type": "code",
   "execution_count": 110,
   "metadata": {
    "slideshow": {
     "slide_type": "skip"
    }
   },
   "outputs": [
    {
     "data": {
      "text/html": [
       "<div>\n",
       "<style scoped>\n",
       "    .dataframe tbody tr th:only-of-type {\n",
       "        vertical-align: middle;\n",
       "    }\n",
       "\n",
       "    .dataframe tbody tr th {\n",
       "        vertical-align: top;\n",
       "    }\n",
       "\n",
       "    .dataframe thead th {\n",
       "        text-align: right;\n",
       "    }\n",
       "</style>\n",
       "<table border=\"1\" class=\"dataframe\">\n",
       "  <thead>\n",
       "    <tr style=\"text-align: right;\">\n",
       "      <th></th>\n",
       "      <th>Late for School</th>\n",
       "      <th>Skip whole school day</th>\n",
       "      <th>Skip classes within school day</th>\n",
       "    </tr>\n",
       "  </thead>\n",
       "  <tbody>\n",
       "    <tr>\n",
       "      <th>0</th>\n",
       "      <td>0</td>\n",
       "      <td>0</td>\n",
       "      <td>1</td>\n",
       "    </tr>\n",
       "    <tr>\n",
       "      <th>1</th>\n",
       "      <td>1</td>\n",
       "      <td>0</td>\n",
       "      <td>1</td>\n",
       "    </tr>\n",
       "    <tr>\n",
       "      <th>2</th>\n",
       "      <td>0</td>\n",
       "      <td>0</td>\n",
       "      <td>1</td>\n",
       "    </tr>\n",
       "    <tr>\n",
       "      <th>4</th>\n",
       "      <td>1</td>\n",
       "      <td>0</td>\n",
       "      <td>2</td>\n",
       "    </tr>\n",
       "    <tr>\n",
       "      <th>7</th>\n",
       "      <td>0</td>\n",
       "      <td>0</td>\n",
       "      <td>1</td>\n",
       "    </tr>\n",
       "  </tbody>\n",
       "</table>\n",
       "</div>"
      ],
      "text/plain": [
       "   Late for School  Skip whole school day  Skip classes within school day\n",
       "0                0                      0                               1\n",
       "1                1                      0                               1\n",
       "2                0                      0                               1\n",
       "4                1                      0                               2\n",
       "7                0                      0                               1"
      ]
     },
     "execution_count": 110,
     "metadata": {},
     "output_type": "execute_result"
    }
   ],
   "source": [
    "multi2[truancy_list].head()"
   ]
  },
  {
   "cell_type": "code",
   "execution_count": 94,
   "metadata": {
    "slideshow": {
     "slide_type": "skip"
    }
   },
   "outputs": [],
   "source": [
    "# get the score of math work ethic in each row \n",
    "total_ethic=[]\n",
    "for _ in range(len(multi2)):\n",
    "    total_ethic.append(multi2.iloc[_][ethic_list].sum())"
   ]
  },
  {
   "cell_type": "code",
   "execution_count": 111,
   "metadata": {
    "slideshow": {
     "slide_type": "skip"
    }
   },
   "outputs": [],
   "source": [
    "# get the score of truancy in each row \n",
    "total_truancy=[]\n",
    "for _ in range(len(multi2)):\n",
    "    total_truancy.append(multi2.iloc[_][truancy_list].sum())"
   ]
  },
  {
   "cell_type": "code",
   "execution_count": 112,
   "metadata": {
    "slideshow": {
     "slide_type": "skip"
    }
   },
   "outputs": [],
   "source": [
    "# create new column and store the total score data \n",
    "multi2['total_ethic']=total_ethic\n",
    "multi2['total_truancy']=total_truancy"
   ]
  },
  {
   "cell_type": "code",
   "execution_count": 113,
   "metadata": {
    "slideshow": {
     "slide_type": "skip"
    }
   },
   "outputs": [
    {
     "data": {
      "text/html": [
       "<div>\n",
       "<style scoped>\n",
       "    .dataframe tbody tr th:only-of-type {\n",
       "        vertical-align: middle;\n",
       "    }\n",
       "\n",
       "    .dataframe tbody tr th {\n",
       "        vertical-align: top;\n",
       "    }\n",
       "\n",
       "    .dataframe thead th {\n",
       "        text-align: right;\n",
       "    }\n",
       "</style>\n",
       "<table border=\"1\" class=\"dataframe\">\n",
       "  <thead>\n",
       "    <tr style=\"text-align: right;\">\n",
       "      <th></th>\n",
       "      <th>gender</th>\n",
       "      <th>Homework Completed in Time</th>\n",
       "      <th>Work Hard on Homework</th>\n",
       "      <th>Prepared for Exams</th>\n",
       "      <th>Study Hard for Quizzes</th>\n",
       "      <th>Study Until I Understand Everything</th>\n",
       "      <th>Pay Attention in Classes</th>\n",
       "      <th>Listen in Classes</th>\n",
       "      <th>Avoid Distractions When Studying</th>\n",
       "      <th>Keep Work Organized</th>\n",
       "      <th>Late for School</th>\n",
       "      <th>Skip whole school day</th>\n",
       "      <th>Skip classes within school day</th>\n",
       "      <th>total_ethic</th>\n",
       "      <th>total_truancy</th>\n",
       "    </tr>\n",
       "  </thead>\n",
       "  <tbody>\n",
       "    <tr>\n",
       "      <th>0</th>\n",
       "      <td>Female</td>\n",
       "      <td>2</td>\n",
       "      <td>2</td>\n",
       "      <td>2</td>\n",
       "      <td>2</td>\n",
       "      <td>2</td>\n",
       "      <td>2</td>\n",
       "      <td>2</td>\n",
       "      <td>2</td>\n",
       "      <td>2</td>\n",
       "      <td>0</td>\n",
       "      <td>0</td>\n",
       "      <td>1</td>\n",
       "      <td>18</td>\n",
       "      <td>1</td>\n",
       "    </tr>\n",
       "    <tr>\n",
       "      <th>1</th>\n",
       "      <td>Female</td>\n",
       "      <td>2</td>\n",
       "      <td>2</td>\n",
       "      <td>3</td>\n",
       "      <td>3</td>\n",
       "      <td>3</td>\n",
       "      <td>2</td>\n",
       "      <td>2</td>\n",
       "      <td>1</td>\n",
       "      <td>2</td>\n",
       "      <td>1</td>\n",
       "      <td>0</td>\n",
       "      <td>1</td>\n",
       "      <td>20</td>\n",
       "      <td>2</td>\n",
       "    </tr>\n",
       "    <tr>\n",
       "      <th>2</th>\n",
       "      <td>Female</td>\n",
       "      <td>3</td>\n",
       "      <td>3</td>\n",
       "      <td>3</td>\n",
       "      <td>3</td>\n",
       "      <td>3</td>\n",
       "      <td>2</td>\n",
       "      <td>3</td>\n",
       "      <td>3</td>\n",
       "      <td>3</td>\n",
       "      <td>0</td>\n",
       "      <td>0</td>\n",
       "      <td>1</td>\n",
       "      <td>26</td>\n",
       "      <td>1</td>\n",
       "    </tr>\n",
       "    <tr>\n",
       "      <th>4</th>\n",
       "      <td>Female</td>\n",
       "      <td>3</td>\n",
       "      <td>3</td>\n",
       "      <td>2</td>\n",
       "      <td>3</td>\n",
       "      <td>3</td>\n",
       "      <td>2</td>\n",
       "      <td>3</td>\n",
       "      <td>3</td>\n",
       "      <td>3</td>\n",
       "      <td>1</td>\n",
       "      <td>0</td>\n",
       "      <td>2</td>\n",
       "      <td>25</td>\n",
       "      <td>3</td>\n",
       "    </tr>\n",
       "    <tr>\n",
       "      <th>7</th>\n",
       "      <td>Male</td>\n",
       "      <td>2</td>\n",
       "      <td>3</td>\n",
       "      <td>3</td>\n",
       "      <td>2</td>\n",
       "      <td>3</td>\n",
       "      <td>2</td>\n",
       "      <td>3</td>\n",
       "      <td>3</td>\n",
       "      <td>3</td>\n",
       "      <td>0</td>\n",
       "      <td>0</td>\n",
       "      <td>1</td>\n",
       "      <td>24</td>\n",
       "      <td>1</td>\n",
       "    </tr>\n",
       "  </tbody>\n",
       "</table>\n",
       "</div>"
      ],
      "text/plain": [
       "   gender  Homework Completed in Time  Work Hard on Homework  \\\n",
       "0  Female                           2                      2   \n",
       "1  Female                           2                      2   \n",
       "2  Female                           3                      3   \n",
       "4  Female                           3                      3   \n",
       "7    Male                           2                      3   \n",
       "\n",
       "   Prepared for Exams  Study Hard for Quizzes  \\\n",
       "0                   2                       2   \n",
       "1                   3                       3   \n",
       "2                   3                       3   \n",
       "4                   2                       3   \n",
       "7                   3                       2   \n",
       "\n",
       "   Study Until I Understand Everything  Pay Attention in Classes  \\\n",
       "0                                    2                         2   \n",
       "1                                    3                         2   \n",
       "2                                    3                         2   \n",
       "4                                    3                         2   \n",
       "7                                    3                         2   \n",
       "\n",
       "   Listen in Classes  Avoid Distractions When Studying  Keep Work Organized  \\\n",
       "0                  2                                 2                    2   \n",
       "1                  2                                 1                    2   \n",
       "2                  3                                 3                    3   \n",
       "4                  3                                 3                    3   \n",
       "7                  3                                 3                    3   \n",
       "\n",
       "   Late for School  Skip whole school day  Skip classes within school day  \\\n",
       "0                0                      0                               1   \n",
       "1                1                      0                               1   \n",
       "2                0                      0                               1   \n",
       "4                1                      0                               2   \n",
       "7                0                      0                               1   \n",
       "\n",
       "   total_ethic  total_truancy  \n",
       "0           18              1  \n",
       "1           20              2  \n",
       "2           26              1  \n",
       "4           25              3  \n",
       "7           24              1  "
      ]
     },
     "execution_count": 113,
     "metadata": {},
     "output_type": "execute_result"
    }
   ],
   "source": [
    "multi2.head()"
   ]
  },
  {
   "cell_type": "code",
   "execution_count": 114,
   "metadata": {
    "slideshow": {
     "slide_type": "skip"
    }
   },
   "outputs": [
    {
     "name": "stderr",
     "output_type": "stream",
     "text": [
      "c:\\users\\dudns_pk7j4bd\\appdata\\local\\programs\\python\\python37\\lib\\site-packages\\ipykernel_launcher.py:4: FutureWarning: \n",
      "Passing list-likes to .loc or [] with any missing label will raise\n",
      "KeyError in the future, you can use .reindex() as an alternative.\n",
      "\n",
      "See the documentation here:\n",
      "https://pandas.pydata.org/pandas-docs/stable/indexing.html#deprecate-loc-reindex-listlike\n",
      "  after removing the cwd from sys.path.\n"
     ]
    }
   ],
   "source": [
    "# random subset of 200 students to reduce overplotting\n",
    "np.random.seed(2019)\n",
    "sample = np.random.choice(multi2.shape[0], 200, replace=False)\n",
    "multi2_subset = multi2.loc[sample]"
   ]
  },
  {
   "cell_type": "code",
   "execution_count": 115,
   "metadata": {
    "slideshow": {
     "slide_type": "slide"
    }
   },
   "outputs": [
    {
     "data": {
      "image/png": "[encoded data removed]",
      "text/plain": [
       "<Figure size 432x288 with 1 Axes>"
      ]
     },
     "metadata": {
      "needs_background": "light"
     },
     "output_type": "display_data"
    }
   ],
   "source": [
    "# combine students with horizontal jitter \n",
    "ttype_markers = [['Female', 'o'], ['Male', '^']]\n",
    "for ttype, marker in ttype_markers:\n",
    "    plot_data = multi2_subset.loc[multi2_subset['gender'] ==ttype]\n",
    "    sb.regplot(data=plot_data, x='total_ethic', y='total_truancy', fit_reg=False, x_jitter=0.4, marker=marker,\\\n",
    "              scatter_kws={'alpha':0.7});\n",
    "\n",
    "plt.xlabel('Total Score of Math Work Ethic')\n",
    "plt.ylabel('Total Score of Truancy');\n",
    "plt.legend(['Female', 'Male']);\n",
    "plt.title('Relationship between Math Work Ethic and Truancy by Gender');"
   ]
  },
  {
   "cell_type": "markdown",
   "metadata": {
    "slideshow": {
     "slide_type": "subslide"
    }
   },
   "source": [
    "#### A2. \n",
    "Most students have low Turancy score, especially who get higher than 10 in Math Work Ethic. The two highest Turancy score come from Male students. "
   ]
  },
  {
   "cell_type": "markdown",
   "metadata": {
    "slideshow": {
     "slide_type": "slide"
    }
   },
   "source": [
    "### Conclusion\n",
    "1. Many students regarded their relationship with teacher as great, but in case of sense of belonging, many students felt liked by others as well as lonely. \n",
    "2. Number of possessions were related with high score.\n",
    "3. Perserverance and Perceived Control seemed to be correlated a little, but there was no clear distinction between gender."
   ]
  }
 ],
 "metadata": {
  "celltoolbar": "Slideshow",
  "kernelspec": {
   "display_name": "Python 3",
   "language": "python",
   "name": "python3"
  },
  "language_info": {
   "codemirror_mode": {
    "name": "ipython",
    "version": 3
   },
   "file_extension": ".py",
   "mimetype": "text/x-python",
   "name": "python",
   "nbconvert_exporter": "python",
   "pygments_lexer": "ipython3",
   "version": "3.7.0"
  }
 },
 "nbformat": 4,
 "nbformat_minor": 2
}
